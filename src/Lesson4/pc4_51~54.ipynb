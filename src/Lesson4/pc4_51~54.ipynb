{
 "cells": [
  {
   "cell_type": "code",
   "execution_count": 1,
   "id": "88fbf22d",
   "metadata": {},
   "outputs": [
    {
     "data": {
      "text/plain": [
       "[['101호', '201'], ['102호', '202호'], ['103호', '203호']]"
      ]
     },
     "execution_count": 1,
     "metadata": {},
     "output_type": "execute_result"
    }
   ],
   "source": [
    "# 051\n",
    "# 총 3개의 리스트를 갖는 이차원 리스트로 표현\n",
    "\n",
    "apart = [[\"101호\", \"102호\"], [\"201호\", \"202호\"], [\"301호\", \"302호\"]]\n",
    "\n",
    "apart"
   ]
  },
  {
   "cell_type": "code",
   "execution_count": 4,
   "id": "08cafd09",
   "metadata": {},
   "outputs": [
    {
     "data": {
      "text/plain": [
       "[['시가', 100, 200, 300], ['종가', 80, 210, 330]]"
      ]
     },
     "execution_count": 4,
     "metadata": {},
     "output_type": "execute_result"
    }
   ],
   "source": [
    "# 052\n",
    "# 총 2개의 리스트를 갖는 이차원 리스트로 표현\n",
    "\n",
    "stock1 = [[\"시가\", 100, 200, 300], [\"종가\", 80, 210, 330]]\n",
    "\n",
    "stock1"
   ]
  },
  {
   "cell_type": "code",
   "execution_count": 5,
   "id": "e6b56baa",
   "metadata": {},
   "outputs": [
    {
     "data": {
      "text/plain": [
       "{'시가': [100, 200, 300], '종가': [80, 210, 330]}"
      ]
     },
     "execution_count": 5,
     "metadata": {},
     "output_type": "execute_result"
    }
   ],
   "source": [
    "# 053\n",
    "# 딕셔너리로 표현, \"시가\", \"종가\" key, 같은 열의 데이터를 리스트로 저장해서 value\n",
    "\n",
    "stock2 = {\"시가\":[100, 200, 300], \"종가\":[80, 210, 330]}\n",
    "\n",
    "stock2"
   ]
  },
  {
   "cell_type": "code",
   "execution_count": 7,
   "id": "86a46d93",
   "metadata": {},
   "outputs": [
    {
     "data": {
      "text/plain": [
       "{'10/10': [80, 110, 70, 90], '10/11': [210, 230, 190, 200]}"
      ]
     },
     "execution_count": 7,
     "metadata": {},
     "output_type": "execute_result"
    }
   ],
   "source": [
    "# 054\n",
    "# 딕셔너리로 표현. 날짜 key, 같은 행의 데이터를 리스트로 저장해서 value\n",
    "\n",
    "stock3 = {\"10/10\":[80, 110, 70, 90], \"10/11\":[210, 230, 190, 200]}\n",
    "\n",
    "stock3"
   ]
  }
 ],
 "metadata": {
  "kernelspec": {
   "display_name": "Python 3 (ipykernel)",
   "language": "python",
   "name": "python3"
  },
  "language_info": {
   "codemirror_mode": {
    "name": "ipython",
    "version": 3
   },
   "file_extension": ".py",
   "mimetype": "text/x-python",
   "name": "python",
   "nbconvert_exporter": "python",
   "pygments_lexer": "ipython3",
   "version": "3.11.3"
  }
 },
 "nbformat": 4,
 "nbformat_minor": 5
}
