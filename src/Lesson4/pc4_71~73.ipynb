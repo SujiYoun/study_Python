{
 "cells": [
  {
   "cell_type": "code",
   "execution_count": 3,
   "id": "e309dd31",
   "metadata": {},
   "outputs": [
    {
     "name": "stdout",
     "output_type": "stream",
     "text": [
      "497929222.9791276\n"
     ]
    }
   ],
   "source": [
    "# 071\n",
    "# 파이스탁 주가 1000원. 50일 연속 상한가(30%)를 기록했을 때의 금액\n",
    "\n",
    "price = 1000\n",
    "for i in range(50):\n",
    "    price *= 1.3\n",
    "\n",
    "print(price)"
   ]
  },
  {
   "cell_type": "code",
   "execution_count": 5,
   "id": "d5e4769d",
   "metadata": {},
   "outputs": [
    {
     "name": "stdout",
     "output_type": "stream",
     "text": [
      "136\n"
     ]
    }
   ],
   "source": [
    "# 072\n",
    "# 리스트에 저장된 수 중에서 짝수들의 합 출력\n",
    "\n",
    "my_list1 = [20, 38, 41, 50, 2, 4, 3, 4, 5, 8, 9, 10]\n",
    "\n",
    "total = 0\n",
    "for num in my_list1:\n",
    "    if num % 2 == 0:\n",
    "        total += num\n",
    "        \n",
    "print(total)"
   ]
  },
  {
   "cell_type": "code",
   "execution_count": 6,
   "id": "7dbc904a",
   "metadata": {},
   "outputs": [
    {
     "name": "stdout",
     "output_type": "stream",
     "text": [
      "136\n"
     ]
    }
   ],
   "source": [
    "# 073\n",
    "# 리스트에 저장된 수 중에서 짝수들의 합 출력\n",
    "\n",
    "my_list2 = [ [20, 38], [41, 50], [2, 4], [3, 4], [5, 8], [9, 10] ]\n",
    "\n",
    "total = 0\n",
    "for row in my_list2:\n",
    "    for num in row:\n",
    "        if num % 2 == 0:\n",
    "            total += num\n",
    "        \n",
    "print(total)"
   ]
  }
 ],
 "metadata": {
  "kernelspec": {
   "display_name": "Python 3 (ipykernel)",
   "language": "python",
   "name": "python3"
  },
  "language_info": {
   "codemirror_mode": {
    "name": "ipython",
    "version": 3
   },
   "file_extension": ".py",
   "mimetype": "text/x-python",
   "name": "python",
   "nbconvert_exporter": "python",
   "pygments_lexer": "ipython3",
   "version": "3.11.3"
  }
 },
 "nbformat": 4,
 "nbformat_minor": 5
}
