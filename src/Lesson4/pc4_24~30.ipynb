{
 "cells": [
  {
   "cell_type": "code",
   "execution_count": 2,
   "id": "0af7381a",
   "metadata": {},
   "outputs": [
    {
     "name": "stdout",
     "output_type": "stream",
     "text": [
      "study\n",
      "python\n",
      "language\n"
     ]
    }
   ],
   "source": [
    "# 024\n",
    "# for if 문자열\n",
    "\n",
    "문장 = [\"I\", \"study\", \"python\", \"language\", \"!\"]\n",
    "for 단어 in 문장:\n",
    "    if (len(단어) >= 3):\n",
    "        print(단어)"
   ]
  },
  {
   "cell_type": "code",
   "execution_count": 4,
   "id": "9e2ee44d",
   "metadata": {},
   "outputs": [
    {
     "name": "stdout",
     "output_type": "stream",
     "text": [
      "A\n",
      "D\n"
     ]
    }
   ],
   "source": [
    "# 025\n",
    "# 대문자만 출력. isupper()\n",
    "\n",
    "alphabet = [\"A\", \"b\", \"c\", \"D\"]\n",
    "for a in alphabet:\n",
    "    if a.isupper():\n",
    "        print(a)"
   ]
  },
  {
   "cell_type": "code",
   "execution_count": 5,
   "id": "540e891d",
   "metadata": {},
   "outputs": [
    {
     "name": "stdout",
     "output_type": "stream",
     "text": [
      "b\n",
      "c\n"
     ]
    }
   ],
   "source": [
    "# 026\n",
    "# 소문자만 출력. isupper()\n",
    "\n",
    "for a in alphabet:\n",
    "    if a.isupper() == False:\n",
    "        print(a)\n",
    "        \n",
    "# not 변수.isupper()"
   ]
  },
  {
   "cell_type": "code",
   "execution_count": 7,
   "id": "a9ac22a4",
   "metadata": {},
   "outputs": [
    {
     "name": "stdout",
     "output_type": "stream",
     "text": [
      "Dog\n",
      "Cat\n",
      "Parrot\n"
     ]
    }
   ],
   "source": [
    "# 027\n",
    "# 이름의 첫글자를 대문자로 변경해서 출력\n",
    "\n",
    "animal = ['dog', 'cat', 'parrot']\n",
    "\n",
    "for name in animal:\n",
    "    print(name[0].upper() + name[1:])"
   ]
  },
  {
   "cell_type": "code",
   "execution_count": 8,
   "id": "bb442f11",
   "metadata": {},
   "outputs": [
    {
     "name": "stdout",
     "output_type": "stream",
     "text": [
      "hello\n",
      "ex01\n",
      "intro\n"
     ]
    }
   ],
   "source": [
    "# 028\n",
    "# 확장자를 제거하고 파일 이름만 화면에 출력\n",
    "\n",
    "folder = ['hello.py', 'ex01.py', 'intro.hwp']\n",
    "for file in folder:\n",
    "    name = file.split('.')\n",
    "    print(name[0])"
   ]
  },
  {
   "cell_type": "code",
   "execution_count": 11,
   "id": "39e6c2b8",
   "metadata": {},
   "outputs": [
    {
     "name": "stdout",
     "output_type": "stream",
     "text": [
      "intra.h\n",
      "define.h\n"
     ]
    }
   ],
   "source": [
    "# 029\n",
    "# 확장자가 .h인 파일이름 출력\n",
    "\n",
    "folder = ['intra.h', 'intra.c', 'define.h', 'run.py']\n",
    "for file in folder:\n",
    "    name = file.split('.')\n",
    "    if name[1] == \"h\":\n",
    "        print(file)"
   ]
  },
  {
   "cell_type": "code",
   "execution_count": 12,
   "id": "e6213935",
   "metadata": {},
   "outputs": [
    {
     "name": "stdout",
     "output_type": "stream",
     "text": [
      "intra.h\n",
      "intra.c\n",
      "define.h\n"
     ]
    }
   ],
   "source": [
    "# 030\n",
    "# 확장자가 .h나 .c인 파일을 출력\n",
    "\n",
    "for file in folder:\n",
    "    name = file.split('.')\n",
    "    if (name[1] == \"h\") or (name[1] == \"c\"):\n",
    "        print(file)"
   ]
  }
 ],
 "metadata": {
  "kernelspec": {
   "display_name": "Python 3 (ipykernel)",
   "language": "python",
   "name": "python3"
  },
  "language_info": {
   "codemirror_mode": {
    "name": "ipython",
    "version": 3
   },
   "file_extension": ".py",
   "mimetype": "text/x-python",
   "name": "python",
   "nbconvert_exporter": "python",
   "pygments_lexer": "ipython3",
   "version": "3.11.3"
  }
 },
 "nbformat": 4,
 "nbformat_minor": 5
}
