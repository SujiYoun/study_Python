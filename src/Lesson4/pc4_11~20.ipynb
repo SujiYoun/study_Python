{
 "cells": [
  {
   "cell_type": "code",
   "execution_count": 6,
   "id": "24ead41f",
   "metadata": {},
   "outputs": [
    {
     "name": "stdout",
     "output_type": "stream",
     "text": [
      "110\n",
      "210\n",
      "310\n"
     ]
    }
   ],
   "source": [
    "# 011\n",
    "# 부가세 포함한 가격\n",
    "\n",
    "number = [100, 200, 300]\n",
    "for x in number:\n",
    "    print(x + 10)"
   ]
  },
  {
   "cell_type": "code",
   "execution_count": 7,
   "id": "843f21b4",
   "metadata": {},
   "outputs": [
    {
     "name": "stdout",
     "output_type": "stream",
     "text": [
      "오늘의 메뉴: 김밥\n",
      "오늘의 메뉴: 라면\n",
      "오늘의 메뉴: 튀김\n"
     ]
    }
   ],
   "source": [
    "# 012\n",
    "# 반복문 출력\n",
    "\n",
    "menu = [\"김밥\", \"라면\", \"튀김\"]\n",
    "for name in menu:\n",
    "    print(\"오늘의 메뉴:\", name)"
   ]
  },
  {
   "cell_type": "code",
   "execution_count": 8,
   "id": "a50d7d8e",
   "metadata": {},
   "outputs": [
    {
     "name": "stdout",
     "output_type": "stream",
     "text": [
      "6\n",
      "4\n",
      "4\n"
     ]
    }
   ],
   "source": [
    "# 013\n",
    "# 문자열의 길이 출력\n",
    "\n",
    "stock = [\"SK하이닉스\", \"삼성전자\", \"LG전자\"]\n",
    "for name in stock:\n",
    "    print(len(name))"
   ]
  },
  {
   "cell_type": "code",
   "execution_count": 9,
   "id": "b0d88031",
   "metadata": {},
   "outputs": [
    {
     "name": "stdout",
     "output_type": "stream",
     "text": [
      "dog 3\n",
      "cat 3\n",
      "parrot 6\n"
     ]
    }
   ],
   "source": [
    "# 014\n",
    "# 변수와 글자수 출력\n",
    "\n",
    "animal = ['dog', 'cat', 'parrot']\n",
    "for name in animal:\n",
    "    print(name, len(name))"
   ]
  },
  {
   "cell_type": "code",
   "execution_count": 10,
   "id": "d3ec432c",
   "metadata": {},
   "outputs": [
    {
     "name": "stdout",
     "output_type": "stream",
     "text": [
      "d\n",
      "c\n",
      "p\n"
     ]
    }
   ],
   "source": [
    "# 015\n",
    "# 동물 이름의 첫 글자만 출력\n",
    "\n",
    "for name in animal:\n",
    "    print(name[0])"
   ]
  },
  {
   "cell_type": "code",
   "execution_count": 11,
   "id": "a14d318a",
   "metadata": {},
   "outputs": [
    {
     "name": "stdout",
     "output_type": "stream",
     "text": [
      "3 x 1\n",
      "3 x 2\n",
      "3 x 3\n"
     ]
    }
   ],
   "source": [
    "# 016\n",
    "# 구구단1\n",
    "\n",
    "num = [1, 2, 3]\n",
    "for x in num:\n",
    "    print(\"3 x\", x)"
   ]
  },
  {
   "cell_type": "code",
   "execution_count": 14,
   "id": "fd85c712",
   "metadata": {},
   "outputs": [
    {
     "name": "stdout",
     "output_type": "stream",
     "text": [
      "3 x 1 = 3\n",
      "3 x 1 = 3\n",
      "3 x 2 = 6\n",
      "3 x 2 = 6\n",
      "3 x 3 = 9\n",
      "3 x 3 = 9\n"
     ]
    }
   ],
   "source": [
    "# 017\n",
    "# 구구단2. 문자열 함수\n",
    "\n",
    "for x in num:\n",
    "    print(\"3 x\", x, \"=\", 3 * x)\n",
    "    print(\"3 x {} = {}\".format(x, 3 * x))"
   ]
  },
  {
   "cell_type": "code",
   "execution_count": 15,
   "id": "cc756672",
   "metadata": {},
   "outputs": [
    {
     "name": "stdout",
     "output_type": "stream",
     "text": [
      "나\n",
      "다\n",
      "라\n"
     ]
    }
   ],
   "source": [
    "# 018\n",
    "# 리스트 슬라이싱\n",
    "\n",
    "리스트 = [\"가\", \"나\", \"다\", \"라\"]\n",
    "for 변수 in 리스트[1:]:\n",
    "    print(변수)"
   ]
  },
  {
   "cell_type": "code",
   "execution_count": 17,
   "id": "dbec6a18",
   "metadata": {},
   "outputs": [
    {
     "name": "stdout",
     "output_type": "stream",
     "text": [
      "가\n",
      "다\n"
     ]
    }
   ],
   "source": [
    "# 019\n",
    "# 리스트 슬라이싱\n",
    "\n",
    "for 변수 in 리스트[::2]:\n",
    "    print(변수)"
   ]
  },
  {
   "cell_type": "code",
   "execution_count": 18,
   "id": "0c8bebd9",
   "metadata": {},
   "outputs": [
    {
     "name": "stdout",
     "output_type": "stream",
     "text": [
      "라\n",
      "다\n",
      "나\n",
      "가\n"
     ]
    }
   ],
   "source": [
    "# 020\n",
    "# 리스트 슬라이싱\n",
    "\n",
    "for 변수 in 리스트[::-1]:\n",
    "    print(변수)"
   ]
  }
 ],
 "metadata": {
  "kernelspec": {
   "display_name": "Python 3 (ipykernel)",
   "language": "python",
   "name": "python3"
  },
  "language_info": {
   "codemirror_mode": {
    "name": "ipython",
    "version": 3
   },
   "file_extension": ".py",
   "mimetype": "text/x-python",
   "name": "python",
   "nbconvert_exporter": "python",
   "pygments_lexer": "ipython3",
   "version": "3.11.3"
  }
 },
 "nbformat": 4,
 "nbformat_minor": 5
}
