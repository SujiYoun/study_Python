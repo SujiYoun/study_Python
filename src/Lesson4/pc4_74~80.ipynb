{
 "cells": [
  {
   "cell_type": "code",
   "execution_count": 1,
   "id": "7abac03e",
   "metadata": {},
   "outputs": [
    {
     "name": "stdout",
     "output_type": "stream",
     "text": [
      "0 1 2 3 4 5 6 7 8 9 10 11 12 13 14 15 16 17 18 19 20 21 22 23 24 "
     ]
    }
   ],
   "source": [
    "# 074\n",
    "# end=\"\"\n",
    "\n",
    "for i in range(25):\n",
    "    print(i, end=\" \") # 기본값으로 print문의 끝에 들어가는 \\n을 \" \"와 바꾸어 출력"
   ]
  },
  {
   "cell_type": "code",
   "execution_count": 10,
   "id": "9244e20c",
   "metadata": {},
   "outputs": [
    {
     "name": "stdout",
     "output_type": "stream",
     "text": [
      "0 1 2 3 4 \n",
      "5 6 7 8 9 \n",
      "10 11 12 13 14 \n",
      "15 16 17 18 19 \n",
      "20 21 22 23 24 \n"
     ]
    }
   ],
   "source": [
    "# 075\n",
    "# % 연산을 사용해서 5의 배수마다 줄바꿈 삽입\n",
    "\n",
    "for i in range(25):\n",
    "    print(i, end=\" \")\n",
    "    if i % 5 == 4:\n",
    "        print(\"\") \n",
    "# print문에 기본값으로 \\n이 들어가기 때문에 print(\"\\n\")이 들어갈 경우 \\n\\n"
   ]
  },
  {
   "cell_type": "code",
   "execution_count": 16,
   "id": "8fdbab93",
   "metadata": {},
   "outputs": [
    {
     "name": "stdout",
     "output_type": "stream",
     "text": [
      "0 1 2 3 4 \n",
      "5 6 7 8 9 \n",
      "10 11 12 13 14 \n",
      "15 16 17 18 19 \n",
      "20 21 22 23 24 \n"
     ]
    }
   ],
   "source": [
    "# 076\n",
    "# 중첩 for문.\n",
    "\n",
    "# for i in range(5):\n",
    "#     for j in range(5):\n",
    "#         print((i * 5) + j, end=\" \")\n",
    "#     print(\"\")\n",
    "    \n",
    "for i in range(0, 21, 5):\n",
    "    for j in range(5):\n",
    "        print(i + j, end=\" \")\n",
    "    print(\"\")"
   ]
  },
  {
   "cell_type": "code",
   "execution_count": 18,
   "id": "129d00eb",
   "metadata": {},
   "outputs": [
    {
     "name": "stdout",
     "output_type": "stream",
     "text": [
      "1 2 3 4 5 \n",
      "6 7 8 9 10 \n",
      "11 12 13 14 15 \n",
      "16 17 18 19 20 \n",
      "21 22 23 24 25 \n"
     ]
    }
   ],
   "source": [
    "# 077\n",
    "# for문 하나\n",
    "\n",
    "for i in range(1, 26):\n",
    "    print(i, end=\" \")\n",
    "    if i % 5 == 0:\n",
    "        print(\"\")"
   ]
  },
  {
   "cell_type": "code",
   "execution_count": 19,
   "id": "f677e10c",
   "metadata": {},
   "outputs": [
    {
     "name": "stdout",
     "output_type": "stream",
     "text": [
      "1 2 3 4 5 \n",
      "6 7 8 9 10 \n",
      "11 12 13 14 15 \n",
      "16 17 18 19 20 \n",
      "21 22 23 24 25 \n"
     ]
    }
   ],
   "source": [
    "# 078\n",
    "# for문 두 개\n",
    "\n",
    "for i in range(1, 22, 5):\n",
    "    for j in range(5):\n",
    "        print(i + j, end=\" \")\n",
    "    print(\"\")"
   ]
  },
  {
   "cell_type": "code",
   "execution_count": 25,
   "id": "e9a66d4d",
   "metadata": {},
   "outputs": [
    {
     "name": "stdout",
     "output_type": "stream",
     "text": [
      "5 4 3 2 1 \n",
      "10 9 8 7 6 \n",
      "15 14 13 12 11 \n",
      "20 19 18 17 16 \n",
      "25 24 23 22 21 \n"
     ]
    }
   ],
   "source": [
    "# 079\n",
    "# for 문 두 개\n",
    "\n",
    "for i in range(5, 26, 5):\n",
    "    for j in range(5):\n",
    "        print(i - j, end=\" \")\n",
    "    print(\"\")"
   ]
  },
  {
   "cell_type": "code",
   "execution_count": 27,
   "id": "09c02642",
   "metadata": {},
   "outputs": [
    {
     "name": "stdout",
     "output_type": "stream",
     "text": [
      "1 2 3 4 5 \n",
      "2 4 6 8 10 \n",
      "3 6 9 12 15 \n",
      "4 8 12 16 20 \n",
      "5 10 15 20 25 \n"
     ]
    }
   ],
   "source": [
    "# 080\n",
    "# for 문 두 개\n",
    "\n",
    "for i in range(1, 6):\n",
    "    for j in range(1, 6):\n",
    "        print(i * j, end=\" \")\n",
    "    print(\"\")"
   ]
  }
 ],
 "metadata": {
  "kernelspec": {
   "display_name": "Python 3 (ipykernel)",
   "language": "python",
   "name": "python3"
  },
  "language_info": {
   "codemirror_mode": {
    "name": "ipython",
    "version": 3
   },
   "file_extension": ".py",
   "mimetype": "text/x-python",
   "name": "python",
   "nbconvert_exporter": "python",
   "pygments_lexer": "ipython3",
   "version": "3.11.3"
  }
 },
 "nbformat": 4,
 "nbformat_minor": 5
}
