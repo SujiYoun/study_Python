{
 "cells": [
  {
   "cell_type": "code",
   "execution_count": 6,
   "id": "2c669c4e",
   "metadata": {},
   "outputs": [
    {
     "name": "stdout",
     "output_type": "stream",
     "text": [
      "nohtyp\n"
     ]
    }
   ],
   "source": [
    "# 021\n",
    "# print_reverse 정의 : 입력된 문자열을 역순으로 출력\n",
    "\n",
    "def print_reverse (string) :\n",
    "    print(string[::-1])\n",
    "    \n",
    "print_reverse(\"python\")"
   ]
  },
  {
   "cell_type": "code",
   "execution_count": 7,
   "id": "cb1ef3bc",
   "metadata": {},
   "outputs": [
    {
     "name": "stdout",
     "output_type": "stream",
     "text": [
      "2.0\n"
     ]
    }
   ],
   "source": [
    "# 022\n",
    "# print_score 정의 : 성적 리스트를 입력 받아 평균 출력\n",
    "\n",
    "def print_score (scores) :\n",
    "    print(sum(scores) / len(scores))\n",
    "    \n",
    "print_score ([1, 2, 3])"
   ]
  },
  {
   "cell_type": "code",
   "execution_count": 9,
   "id": "da964c1f",
   "metadata": {},
   "outputs": [
    {
     "name": "stdout",
     "output_type": "stream",
     "text": [
      "2\n",
      "10\n",
      "12\n"
     ]
    }
   ],
   "source": [
    "# 023\n",
    "# print_even 정의 : 하나의 리스트를 입력받아 짝수만 화면에 출력\n",
    "\n",
    "def print_even (numbers) :\n",
    "    for num in numbers:\n",
    "        if num % 2 == 0:\n",
    "            print(num)\n",
    "            \n",
    "print_even ([1, 3, 2, 10, 12, 11, 15])"
   ]
  },
  {
   "cell_type": "code",
   "execution_count": 15,
   "id": "5cd90411",
   "metadata": {},
   "outputs": [
    {
     "name": "stdout",
     "output_type": "stream",
     "text": [
      "이름\n",
      "나이\n",
      "성별\n"
     ]
    }
   ],
   "source": [
    "# 024\n",
    "# print_keys : 하나의 딕셔너리를 입력받아 딕셔너리의 key 값을 화면에 출력\n",
    "\n",
    "def print_keys (dic) :\n",
    "    for k in dic.keys():\n",
    "        print(k)\n",
    "        \n",
    "print_keys ({\"이름\":\"김말똥\", \"나이\":30, \"성별\":0})"
   ]
  },
  {
   "cell_type": "code",
   "execution_count": 17,
   "id": "aadd5c80",
   "metadata": {},
   "outputs": [
    {
     "name": "stdout",
     "output_type": "stream",
     "text": [
      "[100, 130, 100, 100]\n"
     ]
    }
   ],
   "source": [
    "# 025\n",
    "# print_value_by_key 정의 : my_dict와 날짜 키값을 입력받아 OHLC 리스트 출력\n",
    "\n",
    "def print_value_by_key (dic, key) :\n",
    "    print(dic[key])\n",
    "    \n",
    "my_dict = {\"10/26\" : [100, 130, 100, 100],\n",
    "           \"10/27\" : [10, 12, 10, 11]}\n",
    "print_value_by_key  (my_dict, \"10/26\")"
   ]
  },
  {
   "cell_type": "code",
   "execution_count": 26,
   "id": "f5082f2e",
   "metadata": {},
   "outputs": [
    {
     "name": "stdout",
     "output_type": "stream",
     "text": [
      "아이엠어보\n",
      "이유알어걸\n"
     ]
    }
   ],
   "source": [
    "# 026\n",
    "# print_5xn(string) 정의 : 입력 문자열을 한 줄에 다섯글자씩 출력\n",
    "\n",
    "def print_5xn (string) :\n",
    "    for i in range(0, len(string), 5):\n",
    "        print(string[i:i + 5])\n",
    "            \n",
    "print_5xn(\"아이엠어보이유알어걸\")"
   ]
  },
  {
   "cell_type": "code",
   "execution_count": 28,
   "id": "a6101ce8",
   "metadata": {},
   "outputs": [
    {
     "name": "stdout",
     "output_type": "stream",
     "text": [
      "아이엠\n",
      "어보이\n",
      "유알어\n",
      "걸\n"
     ]
    }
   ],
   "source": [
    "# 027\n",
    "# print_mxn(string) 정의 : 문자열과 한 줄에 출력될 글자 수를 입력받아 출력\n",
    "\n",
    "def print_mxn (string, num) :\n",
    "    for i in range(0, len(string), num):\n",
    "        print(string[i : i + num])\n",
    "        \n",
    "print_mxn(\"아이엠어보이유알어걸\", 3)"
   ]
  },
  {
   "cell_type": "code",
   "execution_count": 30,
   "id": "3f424a2a",
   "metadata": {},
   "outputs": [
    {
     "name": "stdout",
     "output_type": "stream",
     "text": [
      "1000000\n"
     ]
    }
   ],
   "source": [
    "# 028\n",
    "# calc_monthly_salary(annual_salary) 정의 : 연봉을 입력받아 월급을 계산\n",
    "\n",
    "def calc_monthly_salary (annual_salary) :\n",
    "    return int(annual_salary / 12))\n",
    "    \n",
    "calc_monthly_salary(12000000)"
   ]
  }
 ],
 "metadata": {
  "kernelspec": {
   "display_name": "Python 3 (ipykernel)",
   "language": "python",
   "name": "python3"
  },
  "language_info": {
   "codemirror_mode": {
    "name": "ipython",
    "version": 3
   },
   "file_extension": ".py",
   "mimetype": "text/x-python",
   "name": "python",
   "nbconvert_exporter": "python",
   "pygments_lexer": "ipython3",
   "version": "3.11.3"
  }
 },
 "nbformat": 4,
 "nbformat_minor": 5
}
