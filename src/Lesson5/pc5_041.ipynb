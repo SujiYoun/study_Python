{
 "cells": [
  {
   "cell_type": "code",
   "execution_count": 1,
   "id": "799994e0",
   "metadata": {},
   "outputs": [
    {
     "name": "stdout",
     "output_type": "stream",
     "text": [
      "38778000\n",
      "825.3\n",
      "825.3\n"
     ]
    }
   ],
   "source": [
    "# 041\n",
    "# get_recent_price 정의 : 암호화폐의 ticker를 입력받아, 해당 암호화폐의 최근 거래가격을 반환\n",
    "\n",
    "# 비트코인(BTC)의 최근 거래가격을 가져오는 코드\n",
    "import requests\n",
    "r = requests.get(\"https://api.bithumb.com/public/ticker/BTC\").json()\n",
    "print(r['data']['closing_price'])\n",
    "\n",
    "# 리플(XRP)의 최근 거래가격을 가져오는 코드\n",
    "import requests\n",
    "r = requests.get(\"https://api.bithumb.com/public/ticker/XRP\").json()\n",
    "print(r['data']['closing_price'])\n",
    "\n",
    "def get_recent_price (ticker) :\n",
    "    url = \"https://api.bithumb.com/public/ticker/\" + ticker\n",
    "    r = requests.get(url).json()\n",
    "    return r['data']['closing_price']\n",
    "print(r['data']['closing_price'])"
   ]
  }
 ],
 "metadata": {
  "kernelspec": {
   "display_name": "Python 3 (ipykernel)",
   "language": "python",
   "name": "python3"
  },
  "language_info": {
   "codemirror_mode": {
    "name": "ipython",
    "version": 3
   },
   "file_extension": ".py",
   "mimetype": "text/x-python",
   "name": "python",
   "nbconvert_exporter": "python",
   "pygments_lexer": "ipython3",
   "version": "3.11.3"
  }
 },
 "nbformat": 4,
 "nbformat_minor": 5
}
