{
 "cells": [
  {
   "cell_type": "code",
   "execution_count": 3,
   "id": "51f5b64f",
   "metadata": {},
   "outputs": [
    {
     "data": {
      "text/plain": [
       "[200.0, 233.33333333333334, 300.0, 366.6666666666667]"
      ]
     },
     "execution_count": 3,
     "metadata": {},
     "output_type": "execute_result"
    }
   ],
   "source": [
    "# 042\n",
    "# moving_average_3 정의 : 3일 이동평균 리스트 반환\n",
    "\n",
    "def moving_average_3 (moving_list):\n",
    "    m3 = []\n",
    "    for i in range(len(moving_list) - 2):\n",
    "        m3.append(sum(moving_list[i : i + 3]) / 3)\n",
    "    return m3\n",
    "\n",
    "my_list = [100, 200, 300, 200, 400, 500]\n",
    "moving_average_3(my_list)"
   ]
  },
  {
   "cell_type": "code",
   "execution_count": 5,
   "id": "ad47dff9",
   "metadata": {},
   "outputs": [
    {
     "data": {
      "text/plain": [
       "[200.0, 275.0, 350.0]"
      ]
     },
     "execution_count": 5,
     "metadata": {},
     "output_type": "execute_result"
    }
   ],
   "source": [
    "# 043\n",
    "# moving_average_4 정의 : 4일 이동평균 리스트 반환\n",
    "\n",
    "def moving_average_4 (moving_list):\n",
    "    m4 = []\n",
    "    for i in range(len(moving_list) - 3):\n",
    "        m4.append(sum(moving_list[i : i + 4]) / 4)\n",
    "    return m4\n",
    "\n",
    "my_list = [100, 200, 300, 200, 400, 500]\n",
    "moving_average_4(my_list)"
   ]
  },
  {
   "cell_type": "code",
   "execution_count": 7,
   "id": "5727c070",
   "metadata": {},
   "outputs": [
    {
     "data": {
      "text/plain": [
       "[200.0, 275.0, 350.0]"
      ]
     },
     "execution_count": 7,
     "metadata": {},
     "output_type": "execute_result"
    }
   ],
   "source": [
    "# 044\n",
    "# moving_average_n 정의 : n일 이동평균 리스트 반환\n",
    "\n",
    "def moving_average_n (moving_list, n):\n",
    "    mn = []\n",
    "    for i in range(len(moving_list) - n + 1):\n",
    "        mn.append(sum(moving_list[i : i + n]) / n)\n",
    "    return mn\n",
    "\n",
    "my_list = [100, 200, 300, 200, 400, 500]\n",
    "moving_average_n(my_list, 3)\n",
    "\n",
    "moving_average_n(my_list, 4)"
   ]
  }
 ],
 "metadata": {
  "kernelspec": {
   "display_name": "Python 3 (ipykernel)",
   "language": "python",
   "name": "python3"
  },
  "language_info": {
   "codemirror_mode": {
    "name": "ipython",
    "version": 3
   },
   "file_extension": ".py",
   "mimetype": "text/x-python",
   "name": "python",
   "nbconvert_exporter": "python",
   "pygments_lexer": "ipython3",
   "version": "3.11.3"
  }
 },
 "nbformat": 4,
 "nbformat_minor": 5
}
