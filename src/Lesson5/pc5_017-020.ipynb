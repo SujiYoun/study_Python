{
 "cells": [
  {
   "cell_type": "code",
   "execution_count": 1,
   "id": "a5268ab6",
   "metadata": {},
   "outputs": [],
   "source": [
    "# 017\n",
    "# print_upper_price 정의 : 현재 가격을 입력 받아 상한가(30%) 출력\n",
    "\n",
    "def print_upper_price (price) :\n",
    "    print(price * 1.3)"
   ]
  },
  {
   "cell_type": "code",
   "execution_count": 2,
   "id": "b9a23688",
   "metadata": {},
   "outputs": [],
   "source": [
    "# 018\n",
    "# print_sum 정의 : 두 개의 숫자를 입력받아 두 수의 합을 출력\n",
    "\n",
    "def print_sum (a, b) :\n",
    "    print(a + b)"
   ]
  },
  {
   "cell_type": "code",
   "execution_count": 4,
   "id": "a5a6c703",
   "metadata": {},
   "outputs": [],
   "source": [
    "# 019\n",
    "# print_arithmetic_operation : 두 개의 숫자를 입력받아 합/차/곱/나눗셈을 출력\n",
    "\n",
    "def print_arithmetic_operation (a, b) :\n",
    "    print(\"{} + {} = {}\".format(a, b, a + b))\n",
    "    print(\"{} - {} = {}\".format(a, b, a - b))\n",
    "    print(\"{} * {} = {}\".format(a, b, a * b))\n",
    "    print(\"{} / {} = {}\".format(a, b, a / b))"
   ]
  },
  {
   "cell_type": "code",
   "execution_count": 6,
   "id": "bf36ef66",
   "metadata": {},
   "outputs": [],
   "source": [
    "# 020\n",
    "# print_max 정의 : 세 개의 숫자를 입력받아 가장 큰 수를 출력\n",
    "\n",
    "def print_max (a, b, c) :\n",
    "    if a > b :\n",
    "        max = a\n",
    "    else :\n",
    "        max = b\n",
    "    \n",
    "    if c > max :\n",
    "        max = c\n",
    "        \n",
    "    print(max)"
   ]
  }
 ],
 "metadata": {
  "kernelspec": {
   "display_name": "Python 3 (ipykernel)",
   "language": "python",
   "name": "python3"
  },
  "language_info": {
   "codemirror_mode": {
    "name": "ipython",
    "version": 3
   },
   "file_extension": ".py",
   "mimetype": "text/x-python",
   "name": "python",
   "nbconvert_exporter": "python",
   "pygments_lexer": "ipython3",
   "version": "3.11.3"
  }
 },
 "nbformat": 4,
 "nbformat_minor": 5
}
