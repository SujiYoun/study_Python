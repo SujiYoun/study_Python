{
 "cells": [
  {
   "cell_type": "code",
   "execution_count": 3,
   "id": "d3bb30ed",
   "metadata": {},
   "outputs": [
    {
     "name": "stdout",
     "output_type": "stream",
     "text": [
      "hello! python\n"
     ]
    }
   ],
   "source": [
    "# 031\n",
    "# 문자열 이어 붙이기\n",
    "\n",
    "one = \"hello\"\n",
    "two = \"python\"\n",
    "print(one + \"!\", two) # ',' 공백과 함께 값 출력"
   ]
  },
  {
   "cell_type": "code",
   "execution_count": 2,
   "id": "7a51c6e9",
   "metadata": {},
   "outputs": [
    {
     "name": "stdout",
     "output_type": "stream",
     "text": [
      "python java python java python java python java \n"
     ]
    }
   ],
   "source": [
    "# 032\n",
    "# 문자열 더하기, 곱하기\n",
    "\n",
    "one = 'python'\n",
    "two = 'java'\n",
    "merge = one + ' ' + two + ' '\n",
    "print(merge * 4)"
   ]
  },
  {
   "cell_type": "code",
   "execution_count": 4,
   "id": "fa18e908",
   "metadata": {},
   "outputs": [
    {
     "name": "stdout",
     "output_type": "stream",
     "text": [
      "p t\n"
     ]
    }
   ],
   "source": [
    "# 033\n",
    "# 문자열 인덱싱\n",
    "\n",
    "lang = 'python'\n",
    "print(lang[0],lang[2])"
   ]
  },
  {
   "cell_type": "code",
   "execution_count": 6,
   "id": "87b9d4e6",
   "metadata": {},
   "outputs": [
    {
     "name": "stdout",
     "output_type": "stream",
     "text": [
      "2210\n"
     ]
    }
   ],
   "source": [
    "# 034\n",
    "# 문자열 슬라이싱\n",
    "\n",
    "license_plate = \"24가 2210\"\n",
    "print(license_plate[-4:])"
   ]
  },
  {
   "cell_type": "code",
   "execution_count": 10,
   "id": "cba43be9",
   "metadata": {},
   "outputs": [
    {
     "name": "stdout",
     "output_type": "stream",
     "text": [
      "홀홀홀\n",
      "홀홀홀\n"
     ]
    }
   ],
   "source": [
    "# 035\n",
    "# 문자열 인덱싱\n",
    "\n",
    "string = \"홀짝홀짝홀짝\"\n",
    "print(string[0] + string[2] + string[4])\n",
    "print(string[::2]) ## 전체 문자열에 대해서 두 개씩 건너 뛰며 값을 가져오라"
   ]
  },
  {
   "cell_type": "code",
   "execution_count": 5,
   "id": "d408d542",
   "metadata": {},
   "outputs": [
    {
     "name": "stdout",
     "output_type": "stream",
     "text": [
      "NOHTYP\n"
     ]
    }
   ],
   "source": [
    "# 036\n",
    "# 문자열 거꾸로 뒤집기\n",
    "\n",
    "string = \"PYTHON\"\n",
    "    # revString = string[-1] + string[-2] + string[-3] + string[-4] + string[-5] + string[-6]\n",
    "print(string[::-1]) # 슬라이싱 증감폭 -1"
   ]
  },
  {
   "cell_type": "code",
   "execution_count": 12,
   "id": "246694b3",
   "metadata": {},
   "outputs": [
    {
     "name": "stdout",
     "output_type": "stream",
     "text": [
      "010 1111 2222\n",
      "010 1111 2222\n"
     ]
    }
   ],
   "source": [
    "# 037\n",
    "# 문자열 요소 교환. replace\n",
    "\n",
    "phone_number = \"010-1111-2222\"\n",
    "    # print(phone_number[:3], phone_number[4:8], phone_number[9:])\n",
    "\n",
    "new_number = phone_number.replace(\"-\", \" \")\n",
    "print(new_number)\n",
    "\n",
    "phone_number = phone_number.replace(\"-\", \" \")\n",
    "print(phone_number)"
   ]
  },
  {
   "cell_type": "code",
   "execution_count": 14,
   "id": "d62c171d",
   "metadata": {},
   "outputs": [
    {
     "name": "stdout",
     "output_type": "stream",
     "text": [
      "01011112222\n"
     ]
    }
   ],
   "source": [
    "# 038\n",
    "# 문자열 요소 제거, replace\n",
    "\n",
    "phone_number = \"010-1111-2222\"\n",
    "print(phone_number.replace(\"-\", \"\"))"
   ]
  },
  {
   "cell_type": "code",
   "execution_count": 17,
   "id": "0927c687",
   "metadata": {},
   "outputs": [
    {
     "name": "stdout",
     "output_type": "stream",
     "text": [
      "Abcd\n"
     ]
    }
   ],
   "source": [
    "# 039\n",
    "# 문자 변경, replace\n",
    "\n",
    "string = 'abcd'\n",
    "    # print(\"A\" + string[1:])\n",
    "    \n",
    "print(string.replace(\"a\", \"A\"))"
   ]
  },
  {
   "cell_type": "code",
   "execution_count": 18,
   "id": "221b84e5",
   "metadata": {},
   "outputs": [
    {
     "name": "stdout",
     "output_type": "stream",
     "text": [
      "국어\n",
      "영어\n",
      "수학\n",
      "과학\n",
      "경제\n",
      "지리\n",
      "물리\n",
      "화학\n",
      "생물\n"
     ]
    }
   ],
   "source": [
    "# 040\n",
    "# 문자 치환 replace\n",
    "\n",
    "string = \"국어 영어 수학 과학 경제 지리 물리 화학 생물\"\n",
    "print(string.replace(\" \", \"\\n\"))"
   ]
  }
 ],
 "metadata": {
  "kernelspec": {
   "display_name": "Python 3 (ipykernel)",
   "language": "python",
   "name": "python3"
  },
  "language_info": {
   "codemirror_mode": {
    "name": "ipython",
    "version": 3
   },
   "file_extension": ".py",
   "mimetype": "text/x-python",
   "name": "python",
   "nbconvert_exporter": "python",
   "pygments_lexer": "ipython3",
   "version": "3.11.3"
  }
 },
 "nbformat": 4,
 "nbformat_minor": 5
}
