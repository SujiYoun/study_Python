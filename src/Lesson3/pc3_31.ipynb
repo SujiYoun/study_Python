{
 "cells": [
  {
   "cell_type": "code",
   "execution_count": 2,
   "id": "d6c5ed79",
   "metadata": {},
   "outputs": [
    {
     "name": "stdout",
     "output_type": "stream",
     "text": [
      "score: 83\n",
      "grade is A\n"
     ]
    }
   ],
   "source": [
    "# 031\n",
    "# score & grade\n",
    "\n",
    "score = int(input(\"score: \"))\n",
    "if score >= 81:\n",
    "    print(\"grade is A\")\n",
    "elif score >= 61:\n",
    "    print(\"grade is B\")\n",
    "elif score >= 41:\n",
    "    print(\"grade is C\")\n",
    "elif score >= 21:\n",
    "    print(\"grade is D\")\n",
    "else:\n",
    "    print(\"grade is E\")"
   ]
  },
  {
   "cell_type": "code",
   "execution_count": 6,
   "id": "020a9b50",
   "metadata": {},
   "outputs": [
    {
     "name": "stdout",
     "output_type": "stream",
     "text": [
      "입력: 100 달러\n",
      "116700 원\n"
     ]
    }
   ],
   "source": [
    "# 032\n",
    "# 환율 계산\n",
    "\n",
    "user_input = input(\"입력: \").split(' ')\n",
    "\n",
    "amount = int(user_input[0])\n",
    "currency = user_input[1]\n",
    "\n",
    "if currency == \"달러\":\n",
    "    ratio = 1167\n",
    "    \n",
    "elif currency == \"엔\":\n",
    "    ratio = 1.096\n",
    "elif currency == \"유로\":\n",
    "    ratio = 1268\n",
    "else: # 위안\n",
    "    ratio = 171\n",
    "    \n",
    "print(amount * ratio, \"원\")"
   ]
  },
  {
   "cell_type": "code",
   "execution_count": 7,
   "id": "60b664ce",
   "metadata": {},
   "outputs": [
    {
     "name": "stdout",
     "output_type": "stream",
     "text": [
      "휴대전화 번호 입력: 011-345-1922\n",
      "당신은 SKT 사용자입니다.\n"
     ]
    }
   ],
   "source": [
    "# 033\n",
    "# 휴대전화 번호\n",
    "\n",
    "phone_number = input(\"휴대전화 번호 입력: \").split('-')\n",
    "\n",
    "if phone_number[0] == \"011\":\n",
    "    agency = \"SKT\"\n",
    "elif phone_number[0] == \"016\":\n",
    "    agency = \"KT\"\n",
    "elif phone_number[0] == \"019\":\n",
    "    agency = \"LGU\"\n",
    "else:\n",
    "    agency = \"알수없는\"\n",
    "    \n",
    "print(\"당신은\", agency, \"사용자입니다.\")"
   ]
  },
  {
   "cell_type": "code",
   "execution_count": 10,
   "id": "737456f5",
   "metadata": {},
   "outputs": [
    {
     "name": "stdout",
     "output_type": "stream",
     "text": [
      "input number1: 10\n",
      "input number2: 9\n",
      "input number3: 20\n",
      "20\n",
      "input number1: 10\n",
      "input number2: 9\n",
      "input number3: 20\n",
      "20\n"
     ]
    }
   ],
   "source": [
    "# 034\n",
    "# 가장 큰 숫자\n",
    "\n",
    "a = int(input(\"input number1: \"))\n",
    "b = int(input(\"input number2: \"))\n",
    "c = int(input(\"input number3: \"))\n",
    "\n",
    "if a < b:\n",
    "    max_num = b\n",
    "else:\n",
    "    max_num = a\n",
    "\n",
    "if max_num < c:\n",
    "    max_num = c\n",
    "    \n",
    "print(max_num)\n",
    "\n",
    "## number = [int(input()), int(input()), int(input())]\n",
    "# number[0] = int(input(\"input number1: \"))\n",
    "# number[1] = int(input(\"input number2: \"))\n",
    "# number[2] = int(input(\"input number3: \"))\n",
    "# print(max(number))"
   ]
  },
  {
   "cell_type": "code",
   "execution_count": 16,
   "id": "e4a90f2d",
   "metadata": {},
   "outputs": [
    {
     "name": "stdout",
     "output_type": "stream",
     "text": [
      "우편번호: 01400\n",
      "도봉구\n"
     ]
    }
   ],
   "source": [
    "# 035\n",
    "# 우편번호 앞 세 자리수. 세 번째 자리 숫자\n",
    "\n",
    "user_in = input(\"우편번호: \")\n",
    "if user_in[0:2] == \"01\":\n",
    "    if int(user_in[2]) < 3:\n",
    "        print(\"강북구\")\n",
    "    elif int(user_in[2]) < 6:\n",
    "        print(\"도봉구\")\n",
    "    else: # 6 <= int(user_in[2]) <= 9\n",
    "        print(\"노원구\")\n",
    "else:\n",
    "    print(\"알수없음\")"
   ]
  },
  {
   "cell_type": "code",
   "execution_count": 17,
   "id": "73566672",
   "metadata": {},
   "outputs": [
    {
     "name": "stdout",
     "output_type": "stream",
     "text": [
      "주민등록번호: 821010-1635210\n",
      "남자\n"
     ]
    }
   ],
   "source": [
    "# 036\n",
    "# 주민등록번호. 성별\n",
    "\n",
    "user_in = input(\"주민등록번호: \")\n",
    "if (user_in[7] == \"1\") or (user_in[7] == \"3\"):\n",
    "    print(\"남자\")\n",
    "else:\n",
    "    print(\"여자\")"
   ]
  },
  {
   "cell_type": "code",
   "execution_count": 24,
   "id": "32eb74a5",
   "metadata": {},
   "outputs": [
    {
     "name": "stdout",
     "output_type": "stream",
     "text": [
      "주민등록번호: 861010-1015210\n",
      "서울o\n"
     ]
    }
   ],
   "source": [
    "# 037\n",
    "# 주민등록번호. 지역코드\n",
    "\n",
    "user_in = input(\"주민등록번호: \")\n",
    "if int(user_in[8:10]) < 9:\n",
    "    print(\"서울o\")\n",
    "else:\n",
    "    print(\"서울x\")"
   ]
  },
  {
   "cell_type": "code",
   "execution_count": 29,
   "id": "2ee82d00",
   "metadata": {},
   "outputs": [
    {
     "name": "stdout",
     "output_type": "stream",
     "text": [
      "주민등록번호: 821010-1635210\n",
      "에러\n"
     ]
    }
   ],
   "source": [
    "# 038\n",
    "# 주민등록번호 유효성\n",
    "\n",
    "user_in = input(\"주민등록번호: \")\n",
    "sum = int(user_in[0])*2 + int(user_in[1])*3 + int(user_in[2])*4 + int(user_in[3])*5 + int(user_in[4])*6 + int(user_in[5])*7 + int(user_in[7])*8 + int(user_in[8])*9 + int(user_in[9])*2 + int(user_in[10])*3 + int(user_in[11])*4 + int(user_in[12])*5\n",
    "check = 11 - (sum % 11)\n",
    "\n",
    "if int(user_in[13]) == check:\n",
    "    print(\"정상\")\n",
    "else:\n",
    "    print(\"에러\")"
   ]
  },
  {
   "cell_type": "code",
   "execution_count": 31,
   "id": "01ddf9a7",
   "metadata": {},
   "outputs": [
    {
     "name": "stdout",
     "output_type": "stream",
     "text": [
      "{'opening_price': '37899000', 'closing_price': '37918000', 'min_price': '37734000', 'max_price': '37971000', 'units_traded': '464.64132365', 'acc_trade_value': '17589765718.2391', 'prev_closing_price': '37907000', 'units_traded_24H': '499.05877234', 'acc_trade_value_24H': '18894321717.3568', 'fluctate_24H': '-6000', 'fluctate_rate_24H': '-0.02', 'date': '1690724632093'}\n",
      "237000\n"
     ]
    }
   ],
   "source": [
    "# 039\n",
    "# 딕셔너리\n",
    "\n",
    "import requests\n",
    "btc = requests.get(\"https://api.bithumb.com/public/ticker/\").json()['data']\n",
    "print(btc)\n",
    "\n",
    "print(int(btc[\"max_price\"]) - int(btc[\"min_price\"]))"
   ]
  },
  {
   "cell_type": "code",
   "execution_count": 32,
   "id": "a8841063",
   "metadata": {},
   "outputs": [
    {
     "name": "stdout",
     "output_type": "stream",
     "text": [
      "상승장\n"
     ]
    }
   ],
   "source": [
    "# 040\n",
    "# 변동폭: 최고가와 최저가의 차이\n",
    "# 시가 + 변동폭이 최고가보다 높을 경우 \"상승장\"\n",
    "\n",
    "volatility = int(btc[\"max_price\"]) - int(btc[\"min_price\"])\n",
    "if int(btc[\"opening_price\"]) + volatility > int(btc[\"max_price\"]):\n",
    "    print(\"상승장\")\n",
    "else:\n",
    "    print(\"하락장\")"
   ]
  }
 ],
 "metadata": {
  "kernelspec": {
   "display_name": "Python 3 (ipykernel)",
   "language": "python",
   "name": "python3"
  },
  "language_info": {
   "codemirror_mode": {
    "name": "ipython",
    "version": 3
   },
   "file_extension": ".py",
   "mimetype": "text/x-python",
   "name": "python",
   "nbconvert_exporter": "python",
   "pygments_lexer": "ipython3",
   "version": "3.11.3"
  }
 },
 "nbformat": 4,
 "nbformat_minor": 5
}
