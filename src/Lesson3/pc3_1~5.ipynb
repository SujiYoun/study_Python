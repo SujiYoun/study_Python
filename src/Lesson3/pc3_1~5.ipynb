{
 "cells": [
  {
   "cell_type": "code",
   "execution_count": 8,
   "id": "cfede6cd",
   "metadata": {},
   "outputs": [
    {
     "name": "stdout",
     "output_type": "stream",
     "text": [
      "정답\n"
     ]
    }
   ],
   "source": [
    "# 001\n",
    "# 변수 x에 바인딩된 정수가 0이 아니라면 \"정답\" 문자열을 출력하라.\n",
    "\n",
    "x = 10 # x에는 정수가 바인딩돼 있다고 가정\n",
    "if x != 0:\n",
    "    print(\"정답\")"
   ]
  },
  {
   "cell_type": "code",
   "execution_count": 7,
   "id": "54a36de2",
   "metadata": {},
   "outputs": [
    {
     "name": "stdout",
     "output_type": "stream",
     "text": [
      "크다\n"
     ]
    }
   ],
   "source": [
    "# 002\n",
    "# 변수 x에 바인딩된 값이 5 이상이면 \"크다\" 문자열을 출력하라.\n",
    "\n",
    "x = 10 # x에는 정수가 바인딩돼 있다고 가정\n",
    "if x >= 5:\n",
    "    print(\"크다\")"
   ]
  },
  {
   "cell_type": "code",
   "execution_count": 15,
   "id": "c213c0e0",
   "metadata": {},
   "outputs": [
    {
     "name": "stdout",
     "output_type": "stream",
     "text": [
      "5\n"
     ]
    }
   ],
   "source": [
    "# 003\n",
    "# 변수 x에 바인딩된 값이 음수라면 x에 10을 더하라.\n",
    "\n",
    "x = -5\n",
    "if x < 0:\n",
    "    x = x + 10\n",
    "print(x)"
   ]
  },
  {
   "cell_type": "code",
   "execution_count": 17,
   "id": "35ee8024",
   "metadata": {},
   "outputs": [
    {
     "name": "stdout",
     "output_type": "stream",
     "text": [
      "asdf\n",
      "4\n"
     ]
    }
   ],
   "source": [
    "# 004\n",
    "# x에 바인딩된 문자열이 \"a\"로 시작하면 문자열의 길이를 출력하라.\n",
    "\n",
    "x = input()\n",
    "if x[0] == 'a':\n",
    "    print(len(x))"
   ]
  },
  {
   "cell_type": "code",
   "execution_count": 20,
   "id": "2c077e8a",
   "metadata": {},
   "outputs": [
    {
     "name": "stdout",
     "output_type": "stream",
     "text": [
      "정답\n"
     ]
    }
   ],
   "source": [
    "# 005\n",
    "# 분기문을 사용해서 변수 x에 바인딩된 값이 3의 배수라면 \"정답\" 문자열을 화면에 출력하라.\n",
    "\n",
    "x = 3\n",
    "if x % 3 == 0:\n",
    "    print(\"정답\")"
   ]
  }
 ],
 "metadata": {
  "kernelspec": {
   "display_name": "Python 3 (ipykernel)",
   "language": "python",
   "name": "python3"
  },
  "language_info": {
   "codemirror_mode": {
    "name": "ipython",
    "version": 3
   },
   "file_extension": ".py",
   "mimetype": "text/x-python",
   "name": "python",
   "nbconvert_exporter": "python",
   "pygments_lexer": "ipython3",
   "version": "3.11.3"
  }
 },
 "nbformat": 4,
 "nbformat_minor": 5
}
