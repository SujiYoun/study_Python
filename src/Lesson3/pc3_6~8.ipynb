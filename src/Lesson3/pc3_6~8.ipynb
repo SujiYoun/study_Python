{
 "cells": [
  {
   "cell_type": "code",
   "execution_count": 1,
   "id": "38fae6bb",
   "metadata": {},
   "outputs": [
    {
     "name": "stdout",
     "output_type": "stream",
     "text": [
      "안녕\n"
     ]
    }
   ],
   "source": [
    "# 006\n",
    "# 실행결과 예측\n",
    "\n",
    "if True:\n",
    "    print(\"안녕\")  \n",
    "if False:\n",
    "    print(\"반가워\")\n",
    "\n",
    "# 안녕"
   ]
  },
  {
   "cell_type": "code",
   "execution_count": 2,
   "id": "8596c81e",
   "metadata": {},
   "outputs": [
    {
     "name": "stdout",
     "output_type": "stream",
     "text": [
      "안녕\n",
      "하하\n"
     ]
    }
   ],
   "source": [
    "# 007\n",
    "# 실행결과 예측\n",
    "\n",
    "if True:\n",
    "    print(\"안녕\")\n",
    "    if False:\n",
    "        print(\"하이\")\n",
    "    if True:\n",
    "        print(\"하하\")\n",
    "        \n",
    "# 안녕\n",
    "# 하하"
   ]
  },
  {
   "cell_type": "code",
   "execution_count": 6,
   "id": "3bc4a158",
   "metadata": {},
   "outputs": [
    {
     "name": "stdout",
     "output_type": "stream",
     "text": [
      "5\n",
      "5\n"
     ]
    }
   ],
   "source": [
    "# 008\n",
    "# 다음 파이썬 코드의 의미\n",
    "\n",
    "x = int(input())\n",
    "if x > 3:\n",
    "    if x < 6:\n",
    "        print(x)\n",
    "        \n",
    "# x가 3보다 크고, 6보다 작으면 x 출력"
   ]
  }
 ],
 "metadata": {
  "kernelspec": {
   "display_name": "Python 3 (ipykernel)",
   "language": "python",
   "name": "python3"
  },
  "language_info": {
   "codemirror_mode": {
    "name": "ipython",
    "version": 3
   },
   "file_extension": ".py",
   "mimetype": "text/x-python",
   "name": "python",
   "nbconvert_exporter": "python",
   "pygments_lexer": "ipython3",
   "version": "3.11.3"
  }
 },
 "nbformat": 4,
 "nbformat_minor": 5
}
