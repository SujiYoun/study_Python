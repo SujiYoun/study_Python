{
 "cells": [
  {
   "cell_type": "code",
   "execution_count": 5,
   "id": "8f268f73",
   "metadata": {},
   "outputs": [
    {
     "name": "stdout",
     "output_type": "stream",
     "text": [
      "0.0\n",
      "0.1\n",
      "0.2\n",
      "0.3\n",
      "0.4\n",
      "0.5\n",
      "0.6\n",
      "0.7\n",
      "0.8\n",
      "0.9\n"
     ]
    }
   ],
   "source": [
    "# 035\n",
    "# 0.0 ~ 0.9\n",
    "\n",
    "for num in range(10):\n",
    "    # print(\"0.{}\".format(num))\n",
    "    print(num / 10)"
   ]
  },
  {
   "cell_type": "code",
   "execution_count": 6,
   "id": "f1200d74",
   "metadata": {},
   "outputs": [
    {
     "name": "stdout",
     "output_type": "stream",
     "text": [
      "3x1 = 3\n",
      "3x2 = 6\n",
      "3x3 = 9\n",
      "3x4 = 12\n",
      "3x5 = 15\n",
      "3x6 = 18\n",
      "3x7 = 21\n",
      "3x8 = 24\n",
      "3x9 = 27\n"
     ]
    }
   ],
   "source": [
    "# 036\n",
    "# 구구단 3단 출력\n",
    "\n",
    "for num in range(1, 10):\n",
    "    print(\"3x{} = {}\".format(num, 3 * num))"
   ]
  },
  {
   "cell_type": "code",
   "execution_count": 7,
   "id": "cb086355",
   "metadata": {},
   "outputs": [
    {
     "name": "stdout",
     "output_type": "stream",
     "text": [
      "3x1 = 3\n",
      "3x3 = 9\n",
      "3x5 = 15\n",
      "3x7 = 21\n",
      "3x9 = 27\n"
     ]
    }
   ],
   "source": [
    "# 037\n",
    "# 구구단 3단 출력. 홀수 번째만 출력\n",
    "\n",
    "for num in range(1, 10, 2):\n",
    "    print(\"3x{} = {}\".format(num, 3 * num))"
   ]
  },
  {
   "cell_type": "code",
   "execution_count": 14,
   "id": "e2c212c5",
   "metadata": {},
   "outputs": [
    {
     "name": "stdout",
     "output_type": "stream",
     "text": [
      "합 : 55\n"
     ]
    }
   ],
   "source": [
    "# 038\n",
    "# 1~10까지의 숫자 모두 더한 값\n",
    "\n",
    "total = 0\n",
    "for num in range(1, 11):\n",
    "    total += num\n",
    "    \n",
    "print(\"합 :\", total)"
   ]
  },
  {
   "cell_type": "code",
   "execution_count": 15,
   "id": "8a2105b6",
   "metadata": {},
   "outputs": [
    {
     "name": "stdout",
     "output_type": "stream",
     "text": [
      "합 : 25\n"
     ]
    }
   ],
   "source": [
    "# 039\n",
    "# 1~10까지 모든 홀수의 합\n",
    "\n",
    "total = 0\n",
    "for num in range(1, 11, 2):\n",
    "    total += num\n",
    "    \n",
    "print(\"합 :\", total)"
   ]
  },
  {
   "cell_type": "code",
   "execution_count": 16,
   "id": "20230431",
   "metadata": {},
   "outputs": [
    {
     "name": "stdout",
     "output_type": "stream",
     "text": [
      "3628800\n"
     ]
    }
   ],
   "source": [
    "# 040\n",
    "# 1~10까지의 숫자를 모두 곱한 값\n",
    "\n",
    "mul = 1\n",
    "for num in range(1, 11):\n",
    "    mul *= num\n",
    "\n",
    "print(mul)"
   ]
  }
 ],
 "metadata": {
  "kernelspec": {
   "display_name": "Python 3 (ipykernel)",
   "language": "python",
   "name": "python3"
  },
  "language_info": {
   "codemirror_mode": {
    "name": "ipython",
    "version": 3
   },
   "file_extension": ".py",
   "mimetype": "text/x-python",
   "name": "python",
   "nbconvert_exporter": "python",
   "pygments_lexer": "ipython3",
   "version": "3.11.3"
  }
 },
 "nbformat": 4,
 "nbformat_minor": 5
}
