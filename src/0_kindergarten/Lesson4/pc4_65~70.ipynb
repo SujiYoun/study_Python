{
 "cells": [
  {
   "cell_type": "code",
   "execution_count": 2,
   "id": "95ac6a13",
   "metadata": {},
   "outputs": [
    {
     "name": "stdout",
     "output_type": "stream",
     "text": [
      "100\n",
      "190\n",
      "310\n"
     ]
    }
   ],
   "source": [
    "# 065\n",
    "# ohlc 리스트에 시가, 고가, 저가, 종가 날짜별로 저장\n",
    "# 종가 출력\n",
    "\n",
    "ohlc = [[\"open\", \"high\", \"low\", \"close\"],\n",
    "        [100, 110, 70, 100],\n",
    "        [200, 210, 180, 190],\n",
    "        [300, 310, 300, 310]]\n",
    "\n",
    "for line in ohlc[1:]:\n",
    "    print(line[3])"
   ]
  },
  {
   "cell_type": "code",
   "execution_count": 5,
   "id": "673ae44f",
   "metadata": {},
   "outputs": [
    {
     "name": "stdout",
     "output_type": "stream",
     "text": [
      "190\n",
      "310\n"
     ]
    }
   ],
   "source": [
    "# 066\n",
    "# 종가가 150원보다 큰 경우에만 종가 출력\n",
    "\n",
    "for line in ohlc[1:]:\n",
    "    if line[3] > 150:\n",
    "        print(line[3])"
   ]
  },
  {
   "cell_type": "code",
   "execution_count": 6,
   "id": "f6809017",
   "metadata": {},
   "outputs": [
    {
     "name": "stdout",
     "output_type": "stream",
     "text": [
      "100\n",
      "310\n"
     ]
    }
   ],
   "source": [
    "# 067\n",
    "# 종가가 시가 보다 크거나 같은 경우에만 종가 출력\n",
    "\n",
    "for line in ohlc[1:]:\n",
    "    if line[3] >= line[0]:\n",
    "        print(line[3])"
   ]
  },
  {
   "cell_type": "code",
   "execution_count": 7,
   "id": "f8f3438a",
   "metadata": {},
   "outputs": [
    {
     "name": "stdout",
     "output_type": "stream",
     "text": [
      "[40, 30, 10]\n"
     ]
    }
   ],
   "source": [
    "# 068\n",
    "# 고가와 저가의 차이를 변동폭으로 정의할 때 변동폭을 volatility 리스트에 저장\n",
    "\n",
    "volatility = []\n",
    "for line in ohlc[1:]:\n",
    "    volatility.append(line[1] - line[2])\n",
    "    \n",
    "print(volatility)"
   ]
  },
  {
   "cell_type": "code",
   "execution_count": 9,
   "id": "9f0f16dc",
   "metadata": {},
   "outputs": [
    {
     "name": "stdout",
     "output_type": "stream",
     "text": [
      "10\n"
     ]
    }
   ],
   "source": [
    "# 069\n",
    "# 종가가 시가보다 높은 날의 변동성 (고가 - 저가)\n",
    "\n",
    "for line in ohlc[1:]:\n",
    "    if line[3] > line[0]:\n",
    "        print(line[1] - line[2])"
   ]
  },
  {
   "cell_type": "code",
   "execution_count": 13,
   "id": "5d1c6967",
   "metadata": {},
   "outputs": [
    {
     "name": "stdout",
     "output_type": "stream",
     "text": [
      "0\n"
     ]
    }
   ],
   "source": [
    "# 070\n",
    "# 시가에 매수해서 종가에 매도했을 경우 수익금 계산\n",
    "\n",
    "profit = 0\n",
    "for line in ohlc[1:]:\n",
    "    profit += line[3] - line[0]\n",
    "    \n",
    "print(profit)"
   ]
  }
 ],
 "metadata": {
  "kernelspec": {
   "display_name": "Python 3 (ipykernel)",
   "language": "python",
   "name": "python3"
  },
  "language_info": {
   "codemirror_mode": {
    "name": "ipython",
    "version": 3
   },
   "file_extension": ".py",
   "mimetype": "text/x-python",
   "name": "python",
   "nbconvert_exporter": "python",
   "pygments_lexer": "ipython3",
   "version": "3.11.3"
  }
 },
 "nbformat": 4,
 "nbformat_minor": 5
}
