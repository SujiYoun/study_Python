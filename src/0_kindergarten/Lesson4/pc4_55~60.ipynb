{
 "cells": [
  {
   "cell_type": "code",
   "execution_count": 3,
   "id": "d8d72915",
   "metadata": {},
   "outputs": [
    {
     "name": "stdout",
     "output_type": "stream",
     "text": [
      "101 호\n",
      "102 호\n",
      "201 호\n",
      "202 호\n",
      "301 호\n",
      "302 호\n"
     ]
    }
   ],
   "source": [
    "# 055\n",
    "# 이차원리스트 출력\n",
    "\n",
    "apart = [ [101, 102], [201, 202], [301, 302] ]\n",
    "for floor in apart:\n",
    "    for room in floor:\n",
    "        print(room, \"호\")"
   ]
  },
  {
   "cell_type": "code",
   "execution_count": 4,
   "id": "d12f1f59",
   "metadata": {},
   "outputs": [
    {
     "name": "stdout",
     "output_type": "stream",
     "text": [
      "301 호\n",
      "302 호\n",
      "201 호\n",
      "202 호\n",
      "101 호\n",
      "102 호\n"
     ]
    }
   ],
   "source": [
    "# 056\n",
    "# 이차원리스트 출력\n",
    "\n",
    "for floor in apart[::-1]:\n",
    "    for room in floor:\n",
    "        print(room, \"호\")"
   ]
  },
  {
   "cell_type": "code",
   "execution_count": 6,
   "id": "630f520d",
   "metadata": {},
   "outputs": [
    {
     "name": "stdout",
     "output_type": "stream",
     "text": [
      "302 호\n",
      "301 호\n",
      "202 호\n",
      "201 호\n",
      "102 호\n",
      "101 호\n"
     ]
    }
   ],
   "source": [
    "# 057\n",
    "# 이차원리스트 출력\n",
    "\n",
    "for floor in apart[::-1]:\n",
    "    for room in floor[::-1]:\n",
    "        print(room, \"호\")"
   ]
  },
  {
   "cell_type": "code",
   "execution_count": 7,
   "id": "888bea14",
   "metadata": {},
   "outputs": [
    {
     "name": "stdout",
     "output_type": "stream",
     "text": [
      "101 호\n",
      "-----\n",
      "102 호\n",
      "-----\n",
      "201 호\n",
      "-----\n",
      "202 호\n",
      "-----\n",
      "301 호\n",
      "-----\n",
      "302 호\n",
      "-----\n"
     ]
    }
   ],
   "source": [
    "# 058\n",
    "# 이차원리스트 출력\n",
    "\n",
    "for floor in apart:\n",
    "    for room in floor:\n",
    "        print(room, \"호\")\n",
    "        print(\"-\" * 5)"
   ]
  },
  {
   "cell_type": "code",
   "execution_count": 8,
   "id": "4a52804f",
   "metadata": {},
   "outputs": [
    {
     "name": "stdout",
     "output_type": "stream",
     "text": [
      "101 호\n",
      "102 호\n",
      "-----\n",
      "201 호\n",
      "202 호\n",
      "-----\n",
      "301 호\n",
      "302 호\n",
      "-----\n"
     ]
    }
   ],
   "source": [
    "# 059\n",
    "# 이차원리스트 출력\n",
    "\n",
    "for floor in apart:\n",
    "    for room in floor:\n",
    "        print(room, \"호\")\n",
    "    print(\"-\" * 5)"
   ]
  },
  {
   "cell_type": "code",
   "execution_count": 9,
   "id": "70288800",
   "metadata": {},
   "outputs": [
    {
     "name": "stdout",
     "output_type": "stream",
     "text": [
      "101 호\n",
      "102 호\n",
      "201 호\n",
      "202 호\n",
      "301 호\n",
      "302 호\n",
      "-----\n"
     ]
    }
   ],
   "source": [
    "# 060\n",
    "# 이차원리스트 출력\n",
    "\n",
    "for floor in apart:\n",
    "    for room in floor:\n",
    "        print(room, \"호\")\n",
    "print(\"-\" * 5)"
   ]
  }
 ],
 "metadata": {
  "kernelspec": {
   "display_name": "Python 3 (ipykernel)",
   "language": "python",
   "name": "python3"
  },
  "language_info": {
   "codemirror_mode": {
    "name": "ipython",
    "version": 3
   },
   "file_extension": ".py",
   "mimetype": "text/x-python",
   "name": "python",
   "nbconvert_exporter": "python",
   "pygments_lexer": "ipython3",
   "version": "3.11.3"
  }
 },
 "nbformat": 4,
 "nbformat_minor": 5
}
