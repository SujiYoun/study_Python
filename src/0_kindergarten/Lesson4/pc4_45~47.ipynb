{
 "cells": [
  {
   "cell_type": "code",
   "execution_count": 2,
   "id": "40113357",
   "metadata": {},
   "outputs": [
    {
     "name": "stdout",
     "output_type": "stream",
     "text": [
      "가 나\n",
      "나 다\n",
      "다 라\n"
     ]
    }
   ],
   "source": [
    "# 045\n",
    "# i, i + 1 같이 출력\n",
    "\n",
    "my_list = [\"가\", \"나\", \"다\", \"라\"]\n",
    "\n",
    "for i in range(len(my_list) - 1):\n",
    "    print(my_list[i], my_list[i + 1])"
   ]
  },
  {
   "cell_type": "code",
   "execution_count": 3,
   "id": "0bd79937",
   "metadata": {},
   "outputs": [
    {
     "name": "stdout",
     "output_type": "stream",
     "text": [
      "가 나 다\n",
      "나 다 라\n",
      "다 라 마\n"
     ]
    }
   ],
   "source": [
    "# 046\n",
    "# i, i + 1, i + 2 함께 출력\n",
    "\n",
    "my_list = [\"가\", \"나\", \"다\", \"라\", \"마\"]\n",
    "for i in range(len(my_list) - 2):\n",
    "    print(my_list[i], my_list[i + 1], my_list[i + 2])"
   ]
  },
  {
   "cell_type": "code",
   "execution_count": 15,
   "id": "3841f8d8",
   "metadata": {},
   "outputs": [
    {
     "name": "stdout",
     "output_type": "stream",
     "text": [
      "라 다\n",
      "다 나\n",
      "나 가\n"
     ]
    }
   ],
   "source": [
    "# 047\n",
    "# i, i + 1 함께 출력 거꾸로\n",
    "\n",
    "my_list = [\"가\", \"나\", \"다\", \"라\"]\n",
    "# for i in range(len(my_list) - 1):\n",
    "#     print(my_list[len(my_list) - i - 1], my_list[len(my_list) - i - 2])\n",
    "\n",
    "for i in range(len(my_list) - 1, 0, -1):\n",
    "    print(my_list[i], my_list[i - 1])"
   ]
  }
 ],
 "metadata": {
  "kernelspec": {
   "display_name": "Python 3 (ipykernel)",
   "language": "python",
   "name": "python3"
  },
  "language_info": {
   "codemirror_mode": {
    "name": "ipython",
    "version": 3
   },
   "file_extension": ".py",
   "mimetype": "text/x-python",
   "name": "python",
   "nbconvert_exporter": "python",
   "pygments_lexer": "ipython3",
   "version": "3.11.3"
  }
 },
 "nbformat": 4,
 "nbformat_minor": 5
}
