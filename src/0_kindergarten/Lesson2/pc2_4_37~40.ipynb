{
 "cells": [
  {
   "cell_type": "code",
   "execution_count": 1,
   "id": "3055c75d",
   "metadata": {},
   "outputs": [],
   "source": [
    "# 037\n",
    "# 딕셔너리 두 개\n",
    "\n",
    "가격 = {\"메로나\":1000, \"폴라포\":1200}\n",
    "재고 = {\"메로나\":10, \"폴라포\":3}"
   ]
  },
  {
   "cell_type": "code",
   "execution_count": 4,
   "id": "5a89afe3",
   "metadata": {},
   "outputs": [
    {
     "name": "stdout",
     "output_type": "stream",
     "text": [
      "메로나 1000원 재고 10개\n",
      "폴라포 1200원 재고 3개\n"
     ]
    }
   ],
   "source": [
    "# 038\n",
    "# 값 출력. str\n",
    "\n",
    "    ## value의 값이 정수이기 때문에 \"원\"을 뒤에 붙일 수 없음\n",
    "    ## value를 문자열로 바꾸고 문자열 덧셈으로 문자열 연결\n",
    "print(\"메로나\", str(가격[\"메로나\"]) + \"원 재고\", str(재고[\"메로나\"]) + \"개\")\n",
    "print(\"폴라포\", str(가격[\"폴라포\"]) + \"원 재고\", str(재고[\"폴라포\"]) + \"개\")"
   ]
  },
  {
   "cell_type": "code",
   "execution_count": 5,
   "id": "5c209910",
   "metadata": {},
   "outputs": [
    {
     "data": {
      "text/plain": [
       "{'메로나': 10, '폴라포': 2}"
      ]
     },
     "execution_count": 5,
     "metadata": {},
     "output_type": "execute_result"
    }
   ],
   "source": [
    "# 039\n",
    "# 값 변경\n",
    "\n",
    "재고[\"폴라포\"] = 2\n",
    "재고"
   ]
  },
  {
   "cell_type": "code",
   "execution_count": null,
   "id": "0ed413d2",
   "metadata": {},
   "outputs": [],
   "source": [
    "# 040\n",
    "# KeyError : 딕셔너리에 없는 키에 접근할 때 발생하는 에러\n",
    "\n",
    "icecream = {'폴라포': 1200, '빵빠레': 1800, '월드콘': 1500, '메로나': 1000}\n",
    "icecream['누가바'] ## 딕셔너리에 없는 키"
   ]
  }
 ],
 "metadata": {
  "kernelspec": {
   "display_name": "Python 3 (ipykernel)",
   "language": "python",
   "name": "python3"
  },
  "language_info": {
   "codemirror_mode": {
    "name": "ipython",
    "version": 3
   },
   "file_extension": ".py",
   "mimetype": "text/x-python",
   "name": "python",
   "nbconvert_exporter": "python",
   "pygments_lexer": "ipython3",
   "version": "3.11.3"
  }
 },
 "nbformat": 4,
 "nbformat_minor": 5
}
