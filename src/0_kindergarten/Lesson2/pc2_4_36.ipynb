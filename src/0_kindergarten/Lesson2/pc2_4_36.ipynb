{
 "cells": [
  {
   "cell_type": "code",
   "execution_count": 1,
   "id": "150a92e3",
   "metadata": {},
   "outputs": [
    {
     "name": "stdout",
     "output_type": "stream",
     "text": [
      "{'메로나': 1000, '폴라포': 1200, '빵빠레': 1800, '죠스바': 1200, '월드콘': 1500}\n",
      "{'폴라포': 1200, '빵빠레': 1800, '죠스바': 1200, '월드콘': 1500}\n"
     ]
    }
   ],
   "source": [
    "# 036\n",
    "# key, value 삭제\n",
    "\n",
    "icecream_price = {\"메로나\":1000, \"폴라포\":1200, \"빵빠레\":1800, \"죠스바\":1200, \"월드콘\":1500}\n",
    "\n",
    "print(icecream_price)\n",
    "del icecream_price[\"메로나\"]\n",
    "print(icecream_price)"
   ]
  }
 ],
 "metadata": {
  "kernelspec": {
   "display_name": "Python 3 (ipykernel)",
   "language": "python",
   "name": "python3"
  },
  "language_info": {
   "codemirror_mode": {
    "name": "ipython",
    "version": 3
   },
   "file_extension": ".py",
   "mimetype": "text/x-python",
   "name": "python",
   "nbconvert_exporter": "python",
   "pygments_lexer": "ipython3",
   "version": "3.11.3"
  }
 },
 "nbformat": 4,
 "nbformat_minor": 5
}
