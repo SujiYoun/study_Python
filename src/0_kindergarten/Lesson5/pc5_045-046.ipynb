{
 "cells": [
  {
   "cell_type": "code",
   "execution_count": 7,
   "id": "b3535681",
   "metadata": {},
   "outputs": [
    {
     "data": {
      "text/plain": [
       "[1, 2, '짝', 4, 5, '짝', 7, 8, '짝']"
      ]
     },
     "execution_count": 7,
     "metadata": {},
     "output_type": "execute_result"
    }
   ],
   "source": [
    "# 045\n",
    "# game_369 정의 ; 369게임 시뮬레이션\n",
    "\n",
    "def game_369 (numbers):\n",
    "    game = []\n",
    "    for num in numbers:\n",
    "        if (num == 3) or (num == 6) or (num == 9):\n",
    "            game.append(\"짝\")\n",
    "        else:\n",
    "            game.append(num)\n",
    "    return game\n",
    "\n",
    "game_369( [1, 2, 3, 4, 5, 6, 7, 8, 9] )"
   ]
  },
  {
   "cell_type": "code",
   "execution_count": 13,
   "id": "0e4abc2e",
   "metadata": {},
   "outputs": [
    {
     "data": {
      "text/plain": [
       "['짝', '짝', '짝', '짝']"
      ]
     },
     "execution_count": 13,
     "metadata": {},
     "output_type": "execute_result"
    }
   ],
   "source": [
    "# 046\n",
    "# 45번에 정의한 함수를 0~99까지 정상동작하도록 수정\n",
    "\n",
    "def game_369 (numbers):\n",
    "    game = []\n",
    "    for num in numbers:\n",
    "        일의자리 = num % 10\n",
    "        십의자리 = int(num / 10)\n",
    "        if (일의자리 == 3) or (일의자리 == 6) or (일의자리 == 9):\n",
    "            game.append(\"짝\")\n",
    "        elif (십의자리 == 3) or (십의자리 == 6) or (십의자리 == 9):\n",
    "            game.append(\"짝\")\n",
    "        else:\n",
    "            game.append(num)\n",
    "    return game\n",
    "\n",
    "game_369( [31, 32, 33, 34] )"
   ]
  }
 ],
 "metadata": {
  "kernelspec": {
   "display_name": "Python 3 (ipykernel)",
   "language": "python",
   "name": "python3"
  },
  "language_info": {
   "codemirror_mode": {
    "name": "ipython",
    "version": 3
   },
   "file_extension": ".py",
   "mimetype": "text/x-python",
   "name": "python",
   "nbconvert_exporter": "python",
   "pygments_lexer": "ipython3",
   "version": "3.11.3"
  }
 },
 "nbformat": 4,
 "nbformat_minor": 5
}
