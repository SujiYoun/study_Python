{
 "cells": [
  {
   "cell_type": "code",
   "execution_count": 9,
   "id": "2760185d",
   "metadata": {},
   "outputs": [
    {
     "data": {
      "text/plain": [
       "[38, 44, 1, 15, 1, 2]"
      ]
     },
     "execution_count": 9,
     "metadata": {},
     "output_type": "execute_result"
    }
   ],
   "source": [
    "# 047\n",
    "# make_lotto 정의 : 6개의 로또 번호 리스트 반환\n",
    "\n",
    "import random\n",
    "def make_lotto ():\n",
    "    lotto = []\n",
    "    for i in range(6):\n",
    "        lotto.append(random.randint(1, 45))\n",
    "    return lotto\n",
    "\n",
    "make_lotto()"
   ]
  },
  {
   "cell_type": "code",
   "execution_count": 13,
   "id": "c8700159",
   "metadata": {},
   "outputs": [
    {
     "data": {
      "text/plain": [
       "[24, 7, 14, 22, 6, 41]"
      ]
     },
     "execution_count": 13,
     "metadata": {},
     "output_type": "execute_result"
    }
   ],
   "source": [
    "# 048\n",
    "# make_lotto_without_replacement 정의 : 중복되는 수 없이 6개의 로또 번호 생성\n",
    "\n",
    "def make_lotto_without_replacement():\n",
    "    result = []\n",
    "    flag = 0\n",
    "    for i in range(6):\n",
    "        num = random.randint(1,45)\n",
    "        while num in result:\n",
    "            num = random.randint(1,45)\n",
    "            \n",
    "        result.append(num)\n",
    "    return result\n",
    "\n",
    "make_lotto_without_replacement()"
   ]
  }
 ],
 "metadata": {
  "kernelspec": {
   "display_name": "Python 3 (ipykernel)",
   "language": "python",
   "name": "python3"
  },
  "language_info": {
   "codemirror_mode": {
    "name": "ipython",
    "version": 3
   },
   "file_extension": ".py",
   "mimetype": "text/x-python",
   "name": "python",
   "nbconvert_exporter": "python",
   "pygments_lexer": "ipython3",
   "version": "3.11.3"
  }
 },
 "nbformat": 4,
 "nbformat_minor": 5
}
