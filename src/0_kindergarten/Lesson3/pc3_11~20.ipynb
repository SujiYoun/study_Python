{
 "cells": [
  {
   "cell_type": "code",
   "execution_count": 1,
   "id": "0b3ea0fc",
   "metadata": {},
   "outputs": [
    {
     "name": "stdout",
     "output_type": "stream",
     "text": [
      "입력:안녕하세요\n",
      "안녕하세요안녕하세요\n"
     ]
    }
   ],
   "source": [
    "# 011\n",
    "# input()\n",
    "\n",
    "string = input(\"입력:\")\n",
    "print(string * 2)"
   ]
  },
  {
   "cell_type": "code",
   "execution_count": 2,
   "id": "209093d0",
   "metadata": {},
   "outputs": [
    {
     "name": "stdout",
     "output_type": "stream",
     "text": [
      "숫자를 입력하세요:100\n",
      "110\n"
     ]
    }
   ],
   "source": [
    "# 012\n",
    "# input의 반환값: 문자열\n",
    "\n",
    "num = int(input(\"숫자를 입력하세요:\"))\n",
    "print(num + 10)"
   ]
  },
  {
   "cell_type": "code",
   "execution_count": 4,
   "id": "90fd4ca5",
   "metadata": {},
   "outputs": [
    {
     "name": "stdout",
     "output_type": "stream",
     "text": [
      "31\n",
      "홀수\n"
     ]
    }
   ],
   "source": [
    "# 013\n",
    "# if - else\n",
    "\n",
    "num = int(input())\n",
    "if num % 2 == 0:\n",
    "    print(\"짝수\")\n",
    "else:\n",
    "    print(\"홀수\")"
   ]
  },
  {
   "cell_type": "code",
   "execution_count": 6,
   "id": "74d1b5ce",
   "metadata": {},
   "outputs": [
    {
     "name": "stdout",
     "output_type": "stream",
     "text": [
      "100\n",
      "100\n"
     ]
    }
   ],
   "source": [
    "# 014\n",
    "# if - else\n",
    "\n",
    "num = int(input())\n",
    "if num > 255:\n",
    "    print(255)\n",
    "else:\n",
    "    print(num)"
   ]
  },
  {
   "cell_type": "code",
   "execution_count": 8,
   "id": "8cab889a",
   "metadata": {},
   "outputs": [
    {
     "name": "stdout",
     "output_type": "stream",
     "text": [
      "현재시간:03:10\n",
      "정각이 아닙니다.\n"
     ]
    }
   ],
   "source": [
    "# 015\n",
    "# 시간 입력\n",
    "\n",
    "time = input(\"현재시간:\")\n",
    "if (time[3] == \"0\") and (time[4] == \"0\"):\n",
    "    print(\"정각 입니다.\")\n",
    "else:\n",
    "    print(\"정각이 아닙니다.\")"
   ]
  },
  {
   "cell_type": "code",
   "execution_count": 12,
   "id": "717a3009",
   "metadata": {},
   "outputs": [
    {
     "name": "stdout",
     "output_type": "stream",
     "text": [
      "좋아하는과일은? 망고\n"
     ]
    }
   ],
   "source": [
    "# 016\n",
    "# 리스트에 있는 지 없는 지\n",
    "\n",
    "fruit = ['사과', '포도', '홍시']\n",
    "\n",
    "fav_fruit = input(\"좋아하는과일은? \")\n",
    "if fav_fruit in fruit:\n",
    "    print(\"정답입니다.\")"
   ]
  },
  {
   "cell_type": "code",
   "execution_count": 14,
   "id": "29816923",
   "metadata": {},
   "outputs": [
    {
     "name": "stdout",
     "output_type": "stream",
     "text": [
      "종목 입력: SK\n",
      "투자 경고 종목이 아닙니다.\n"
     ]
    }
   ],
   "source": [
    "# 017\n",
    "# 리스트에 있으면 경고 출력\n",
    "\n",
    "warn_investment_list = [\"Microsoft\", \"Google\", \"Naver\", \"Kakao\", \"SAMSUNG\", \"LG\"]\n",
    "\n",
    "my_stock = input('종목 입력: ')\n",
    "if my_stock in warn_investment_list:\n",
    "    print('투자 경고 종목입니다.')\n",
    "else:\n",
    "    print('투자 경고 종목이 아닙니다.')"
   ]
  },
  {
   "cell_type": "code",
   "execution_count": 15,
   "id": "46a64e4a",
   "metadata": {},
   "outputs": [
    {
     "name": "stdout",
     "output_type": "stream",
     "text": [
      "입력: 24\n",
      "정답\n"
     ]
    }
   ],
   "source": [
    "# 018\n",
    "# 3, 4의 배수이면 '정답'출력\n",
    "\n",
    "num = int(input(\"입력: \"))\n",
    "if (num % 3 == 0) and (num % 4 == 0):\n",
    "    print(\"정답\")"
   ]
  },
  {
   "cell_type": "code",
   "execution_count": 16,
   "id": "6b29e074",
   "metadata": {},
   "outputs": [
    {
     "name": "stdout",
     "output_type": "stream",
     "text": [
      "입력: 6\n",
      "오답\n"
     ]
    }
   ],
   "source": [
    "# 019\n",
    "# 3, 4의 배수이면 '정답' / 그렇지 않을 경우 '오답'\n",
    "\n",
    "num = int(input(\"입력: \"))\n",
    "if (num % 3 == 0) and (num % 4 == 0):\n",
    "    print(\"정답\")\n",
    "else:\n",
    "    print(\"오답\")"
   ]
  },
  {
   "cell_type": "code",
   "execution_count": 17,
   "id": "5eb1fa03",
   "metadata": {},
   "outputs": [
    {
     "name": "stdout",
     "output_type": "stream",
     "text": [
      "0.입력: 20\n",
      "1.입력: 40\n",
      "40\n"
     ]
    }
   ],
   "source": [
    "# 020\n",
    "# 큰 수 출력\n",
    "\n",
    "num1 = int(input(\"0.입력: \"))\n",
    "num2 = int(input(\"1.입력: \"))\n",
    "\n",
    "if num1 > num2:\n",
    "    print(num1)\n",
    "else:\n",
    "    print(num2)"
   ]
  }
 ],
 "metadata": {
  "kernelspec": {
   "display_name": "Python 3 (ipykernel)",
   "language": "python",
   "name": "python3"
  },
  "language_info": {
   "codemirror_mode": {
    "name": "ipython",
    "version": 3
   },
   "file_extension": ".py",
   "mimetype": "text/x-python",
   "name": "python",
   "nbconvert_exporter": "python",
   "pygments_lexer": "ipython3",
   "version": "3.11.3"
  }
 },
 "nbformat": 4,
 "nbformat_minor": 5
}
