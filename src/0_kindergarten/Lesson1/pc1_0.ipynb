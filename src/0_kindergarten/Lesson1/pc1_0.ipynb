{
 "cells": [
  {
   "cell_type": "code",
   "execution_count": 16,
   "id": "02c9522d",
   "metadata": {},
   "outputs": [
    {
     "name": "stdout",
     "output_type": "stream",
     "text": [
      "할수있다. \"파이썬!\"\n"
     ]
    }
   ],
   "source": [
    "# 큰 따옴표 사용법\n",
    "    # print('할수있다. \"파이썬!\"')\n",
    "print(\"할수있다. \\\"파이썬!\\\"\")"
   ]
  },
  {
   "cell_type": "code",
   "execution_count": 7,
   "id": "7f73e6a1",
   "metadata": {},
   "outputs": [
    {
     "name": "stdout",
     "output_type": "stream",
     "text": [
      "1552400\n"
     ]
    }
   ],
   "source": [
    "# 사칙연산 출력\n",
    "    # 네이버 77000 3\n",
    "    # 셀트리온 292000 4\n",
    "    # 삼성증권 38350 4\n",
    "print(77000 * 3 + 292000 * 4 + 38350 * 4)"
   ]
  },
  {
   "cell_type": "code",
   "execution_count": 9,
   "id": "0192b036",
   "metadata": {},
   "outputs": [
    {
     "name": "stdout",
     "output_type": "stream",
     "text": [
      "1575500.0\n"
     ]
    }
   ],
   "source": [
    "# 사칙연산 출력\n",
    "    # 네이버 77000 3 (10% 상승)\n",
    "    # 셀트리온 292000 4\n",
    "    # 삼성증권 38350 4\n",
    "print((77000 * 1.1) * 3 + 292000 * 4 + 38350 * 4)"
   ]
  },
  {
   "cell_type": "code",
   "execution_count": 3,
   "id": "117e5a22",
   "metadata": {},
   "outputs": [
    {
     "name": "stdout",
     "output_type": "stream",
     "text": [
      "1667450\n"
     ]
    }
   ],
   "source": [
    "# 변수 사용\n",
    "# 네이버 3주\n",
    "# 셀트리온 4주\n",
    "# 삼성증권 7주\n",
    "네이버 = 77000\n",
    "셀트리온 = 292000\n",
    "삼성증권 = 38350\n",
    "print(네이버 * 3 + 셀트리온 * 4 + 삼성증권 * 7)"
   ]
  },
  {
   "cell_type": "code",
   "execution_count": 2,
   "id": "b9e18462",
   "metadata": {},
   "outputs": [
    {
     "name": "stdout",
     "output_type": "stream",
     "text": [
      "1690550\n"
     ]
    }
   ],
   "source": [
    "# 네이버 3주, 10% 상승\n",
    "# 셀트리온 4주\n",
    "# 삼성증권 7주\n",
    "네이버 = int(77000 * 1.1)\n",
    "셀트리온 = 292000\n",
    "삼성증권 = 38350\n",
    "print(네이버 * 3 + 셀트리온 * 4 + 삼성증권 * 7)"
   ]
  },
  {
   "cell_type": "code",
   "execution_count": 1,
   "id": "5bad5bc1",
   "metadata": {},
   "outputs": [
    {
     "name": "stdout",
     "output_type": "stream",
     "text": [
      "03월\n"
     ]
    }
   ],
   "source": [
    "# 문자열 슬라이싱\n",
    "year = \"2019/03/18\"\n",
    "print(year[5:7] + \"월\")\n",
    "# print(\"%s월\" %year[5:7])"
   ]
  }
 ],
 "metadata": {
  "kernelspec": {
   "display_name": "Python 3 (ipykernel)",
   "language": "python",
   "name": "python3"
  },
  "language_info": {
   "codemirror_mode": {
    "name": "ipython",
    "version": 3
   },
   "file_extension": ".py",
   "mimetype": "text/x-python",
   "name": "python",
   "nbconvert_exporter": "python",
   "pygments_lexer": "ipython3",
   "version": "3.11.3"
  }
 },
 "nbformat": 4,
 "nbformat_minor": 5
}
