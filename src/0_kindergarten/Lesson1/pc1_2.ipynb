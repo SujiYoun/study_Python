{
 "cells": [
  {
   "cell_type": "code",
   "execution_count": 2,
   "id": "10639c63",
   "metadata": {},
   "outputs": [
    {
     "name": "stdout",
     "output_type": "stream",
     "text": [
      "45\n"
     ]
    }
   ],
   "source": [
    "# 011\n",
    "# 문자열 길이 출력\n",
    "string = \"pneumonoultramicroscopicsilicovelcanoconiosis\"\n",
    "print(len(string))"
   ]
  },
  {
   "cell_type": "code",
   "execution_count": 3,
   "id": "34682d53",
   "metadata": {},
   "outputs": [
    {
     "name": "stdout",
     "output_type": "stream",
     "text": [
      "C:\\Windows\n"
     ]
    }
   ],
   "source": [
    "# 012\n",
    "# \\ 출력\n",
    "print(\"C:\\\\Windows\")"
   ]
  },
  {
   "cell_type": "code",
   "execution_count": 5,
   "id": "bed5b651",
   "metadata": {},
   "outputs": [
    {
     "name": "stdout",
     "output_type": "stream",
     "text": [
      "안녕하세요. \n",
      "만나서\t반갑습니다.\n"
     ]
    }
   ],
   "source": [
    "# 013\n",
    "# \\t, \\n 실행 결과 예측\n",
    "print(\"안녕하세요. \\n만나서\\t반갑습니다.\")\n",
    "\n",
    "# 안녕하세요.\n",
    "# 만나서   반갑습니다."
   ]
  },
  {
   "cell_type": "code",
   "execution_count": 6,
   "id": "7445d90f",
   "metadata": {},
   "outputs": [
    {
     "name": "stdout",
     "output_type": "stream",
     "text": [
      "오늘은 일요일\n"
     ]
    }
   ],
   "source": [
    "# 014\n",
    "# print 함수에 두 개의 단어. 사이에 공백 삽입\n",
    "print(\"오늘은\", \"일요일\")"
   ]
  },
  {
   "cell_type": "code",
   "execution_count": 7,
   "id": "7497af78",
   "metadata": {},
   "outputs": [
    {
     "name": "stdout",
     "output_type": "stream",
     "text": [
      "4\n"
     ]
    }
   ],
   "source": [
    "# 015\n",
    "# 형변환 실행 결과 예측\n",
    "# 실수 -> 정수 형변환시 반내림\n",
    "실수 = 4.7\n",
    "print(int(실수))"
   ]
  },
  {
   "cell_type": "code",
   "execution_count": 8,
   "id": "64de45b5",
   "metadata": {},
   "outputs": [
    {
     "name": "stdout",
     "output_type": "stream",
     "text": [
      "5\n"
     ]
    }
   ],
   "source": [
    "# 016\n",
    "# 실수 반올림 후 정수 출력\n",
    "실수 = 4.7\n",
    "print(int (실수 + 0.5))"
   ]
  },
  {
   "cell_type": "code",
   "execution_count": 14,
   "id": "257c6233",
   "metadata": {},
   "outputs": [
    {
     "name": "stdout",
     "output_type": "stream",
     "text": [
      "4.7\n"
     ]
    }
   ],
   "source": [
    "# 017\n",
    "# 실수를 소수점 첫째자리 까지\n",
    "실수 = 4.71\n",
    "print(int(실수 * 10) / 10)"
   ]
  }
 ],
 "metadata": {
  "kernelspec": {
   "display_name": "Python 3 (ipykernel)",
   "language": "python",
   "name": "python3"
  },
  "language_info": {
   "codemirror_mode": {
    "name": "ipython",
    "version": 3
   },
   "file_extension": ".py",
   "mimetype": "text/x-python",
   "name": "python",
   "nbconvert_exporter": "python",
   "pygments_lexer": "ipython3",
   "version": "3.11.3"
  }
 },
 "nbformat": 4,
 "nbformat_minor": 5
}
