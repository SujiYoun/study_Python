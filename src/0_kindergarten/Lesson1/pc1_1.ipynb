{
 "cells": [
  {
   "cell_type": "code",
   "execution_count": 2,
   "id": "65a4a504",
   "metadata": {},
   "outputs": [
    {
     "name": "stdout",
     "output_type": "stream",
     "text": [
      "Hello World\n"
     ]
    }
   ],
   "source": [
    "# 001\n",
    "# Hello World 출력\n",
    "print(\"Hello World\")"
   ]
  },
  {
   "cell_type": "code",
   "execution_count": 3,
   "id": "39a24c5e",
   "metadata": {},
   "outputs": [
    {
     "name": "stdout",
     "output_type": "stream",
     "text": [
      "Mary's cosmetics\n"
     ]
    }
   ],
   "source": [
    "# 002\n",
    "# 작은 따옴표 출력\n",
    "print(\"Mary's cosmetics\")"
   ]
  },
  {
   "cell_type": "code",
   "execution_count": 4,
   "id": "53de2224",
   "metadata": {},
   "outputs": [
    {
     "name": "stdout",
     "output_type": "stream",
     "text": [
      "신씨가 소리질렀다. \"도둑이야\".\n"
     ]
    }
   ],
   "source": [
    "# 003\n",
    "# 큰따옴표  출력\n",
    "print('신씨가 소리질렀다. \"도둑이야\".')"
   ]
  },
  {
   "cell_type": "code",
   "execution_count": 6,
   "id": "8df138c5",
   "metadata": {},
   "outputs": [
    {
     "name": "stdout",
     "output_type": "stream",
     "text": [
      "8\n"
     ]
    }
   ],
   "source": [
    "# 004\n",
    "# 사직연산 실행 결과 예상\n",
    "print(2 + 2 * 3) #8"
   ]
  },
  {
   "cell_type": "code",
   "execution_count": 7,
   "id": "de33e937",
   "metadata": {},
   "outputs": [
    {
     "name": "stdout",
     "output_type": "stream",
     "text": [
      "34\n"
     ]
    }
   ],
   "source": [
    "# 005\n",
    "# \"정수\"실행 결과 예상\n",
    "print(\"3\" + \"4\") #34"
   ]
  },
  {
   "cell_type": "code",
   "execution_count": 11,
   "id": "1f90f37b",
   "metadata": {},
   "outputs": [
    {
     "name": "stdout",
     "output_type": "stream",
     "text": [
      "####################################################################################################\n"
     ]
    }
   ],
   "source": [
    "# 006\n",
    "# 반복 출력\n",
    "print(\"#\" * 100)"
   ]
  },
  {
   "cell_type": "code",
   "execution_count": 12,
   "id": "51670b69",
   "metadata": {},
   "outputs": [
    {
     "name": "stdout",
     "output_type": "stream",
     "text": [
      "20978\n"
     ]
    }
   ],
   "source": [
    "# 007\n",
    "# 사칙연산 출력\n",
    "# LG전자 주식 금일 종가 1234. 17주 보유\n",
    "print(1234 * 17)"
   ]
  },
  {
   "cell_type": "code",
   "execution_count": 17,
   "id": "af11c178",
   "metadata": {},
   "outputs": [
    {
     "name": "stdout",
     "output_type": "stream",
     "text": [
      "2580\n"
     ]
    }
   ],
   "source": [
    "# 008\n",
    "# 사칙연산 출력, 형변환\n",
    "# LG전자 34주 87720원에 매수. 평균 매입 금액\n",
    "print(int(87720 / 34))"
   ]
  },
  {
   "cell_type": "code",
   "execution_count": 20,
   "id": "ade2af35",
   "metadata": {},
   "outputs": [
    {
     "name": "stdout",
     "output_type": "stream",
     "text": [
      "720\n"
     ]
    }
   ],
   "source": [
    "# 009\n",
    "# 문자열 -> 숫자 변환\n",
    "string = \"720\"\n",
    "integer = int(string)\n",
    "print(integer)"
   ]
  },
  {
   "cell_type": "code",
   "execution_count": 28,
   "id": "35d2c969",
   "metadata": {
    "scrolled": true
   },
   "outputs": [
    {
     "name": "stdout",
     "output_type": "stream",
     "text": [
      "720\n"
     ]
    }
   ],
   "source": [
    "# 010\n",
    "# 숫자 -> 문자열 변환\n",
    "integer = 720\n",
    "string = str(integer)\n",
    "print(string)"
   ]
  }
 ],
 "metadata": {
  "kernelspec": {
   "display_name": "Python 3 (ipykernel)",
   "language": "python",
   "name": "python3"
  },
  "language_info": {
   "codemirror_mode": {
    "name": "ipython",
    "version": 3
   },
   "file_extension": ".py",
   "mimetype": "text/x-python",
   "name": "python",
   "nbconvert_exporter": "python",
   "pygments_lexer": "ipython3",
   "version": "3.11.3"
  }
 },
 "nbformat": 4,
 "nbformat_minor": 5
}
