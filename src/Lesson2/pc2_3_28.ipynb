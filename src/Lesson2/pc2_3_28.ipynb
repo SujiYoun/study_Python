{
 "cells": [
  {
   "cell_type": "code",
   "execution_count": 1,
   "id": "12022c17",
   "metadata": {},
   "outputs": [
    {
     "name": "stdout",
     "output_type": "stream",
     "text": [
      "['삼성전자', 'LG전자', 'SK Hynix']\n",
      "<class 'list'>\n",
      "('삼성전자', 'LG전자', 'SK Hynix')\n",
      "<class 'tuple'>\n"
     ]
    }
   ],
   "source": [
    "# 028\n",
    "# 리스트 -> 튜플 변환\n",
    "\n",
    "interest = ['삼성전자', 'LG전자', 'SK Hynix']\n",
    "my_tuple = tuple(interest)\n",
    "\n",
    "print(interest)\n",
    "print(type(interest))\n",
    "\n",
    "print(my_tuple)\n",
    "print(type(my_tuple))"
   ]
  }
 ],
 "metadata": {
  "kernelspec": {
   "display_name": "Python 3 (ipykernel)",
   "language": "python",
   "name": "python3"
  },
  "language_info": {
   "codemirror_mode": {
    "name": "ipython",
    "version": 3
   },
   "file_extension": ".py",
   "mimetype": "text/x-python",
   "name": "python",
   "nbconvert_exporter": "python",
   "pygments_lexer": "ipython3",
   "version": "3.11.3"
  }
 },
 "nbformat": 4,
 "nbformat_minor": 5
}
