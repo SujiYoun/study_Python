{
 "cells": [
  {
   "cell_type": "code",
   "execution_count": 11,
   "id": "8d34ab55",
   "metadata": {},
   "outputs": [
    {
     "data": {
      "text/plain": [
       "<__main__.자식1 at 0x225de704490>"
      ]
     },
     "execution_count": 11,
     "metadata": {},
     "output_type": "execute_result"
    }
   ],
   "source": [
    "# 038\n",
    "# 실행 결과 예측\n",
    "\n",
    "class 부모1:\n",
    "    def 호출(self):\n",
    "        print(\"부모호출\")\n",
    "\n",
    "class 자식1:\n",
    "    def 호출(self):\n",
    "        print(\"자식호출\")\n",
    "        \n",
    "자식1()\n",
    "# 자식의 메소드 우선"
   ]
  },
  {
   "cell_type": "code",
   "execution_count": 15,
   "id": "dbcaceb7",
   "metadata": {},
   "outputs": [
    {
     "name": "stdout",
     "output_type": "stream",
     "text": [
      "자식생성\n"
     ]
    },
    {
     "data": {
      "text/plain": [
       "<__main__.자식2 at 0x225dd9f5550>"
      ]
     },
     "execution_count": 15,
     "metadata": {},
     "output_type": "execute_result"
    }
   ],
   "source": [
    "# 039\n",
    "# 실행 결과 예측\n",
    "\n",
    "class 부모2:\n",
    "    def __init__ (self):\n",
    "        print(\"부모생성\")\n",
    "    \n",
    "class 자식2:\n",
    "    def __init__ (self):\n",
    "        print(\"자식생성\")\n",
    "        \n",
    "자식2()\n",
    "# 자식생성. 자식의 메소드 우선"
   ]
  },
  {
   "cell_type": "code",
   "execution_count": 20,
   "id": "14a0294d",
   "metadata": {},
   "outputs": [
    {
     "name": "stdout",
     "output_type": "stream",
     "text": [
      "자식생성\n"
     ]
    },
    {
     "data": {
      "text/plain": [
       "<__main__.자식3 at 0x225de6c2890>"
      ]
     },
     "execution_count": 20,
     "metadata": {},
     "output_type": "execute_result"
    }
   ],
   "source": [
    "# 040\n",
    "# 실행 결과 예측\n",
    "\n",
    "class 부모3:\n",
    "    def __init__ (self):\n",
    "        print(\"부모생성\")\n",
    "\n",
    "class 자식3:\n",
    "    def __init__ (self):\n",
    "        print(\"자식생성\")\n",
    "        super().__init__()\n",
    "\n",
    "자식3() # 자식 클래스의 생성자에 정의된 내용이 순차적으로 실행\n",
    "\n",
    "# 자식생성\n",
    "# 부모생성"
   ]
  }
 ],
 "metadata": {
  "kernelspec": {
   "display_name": "Python 3 (ipykernel)",
   "language": "python",
   "name": "python3"
  },
  "language_info": {
   "codemirror_mode": {
    "name": "ipython",
    "version": 3
   },
   "file_extension": ".py",
   "mimetype": "text/x-python",
   "name": "python",
   "nbconvert_exporter": "python",
   "pygments_lexer": "ipython3",
   "version": "3.11.3"
  }
 },
 "nbformat": 4,
 "nbformat_minor": 5
}
