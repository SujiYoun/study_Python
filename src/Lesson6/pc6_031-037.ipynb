{
 "cells": [
  {
   "cell_type": "code",
   "execution_count": 1,
   "id": "ee52dc19",
   "metadata": {},
   "outputs": [
    {
     "name": "stdout",
     "output_type": "stream",
     "text": [
      "2\n",
      "1000\n"
     ]
    }
   ],
   "source": [
    "# 031\n",
    "# 클래스 정의\n",
    "\n",
    "class 차():\n",
    "    def __init__ (self, wheel, price):\n",
    "        self.바퀴 = wheel\n",
    "        self.가격 = price\n",
    "        \n",
    "car = 차(2, 1000)\n",
    "print(car.바퀴)\n",
    "print(car.가격)"
   ]
  },
  {
   "cell_type": "code",
   "execution_count": 5,
   "id": "b8594fdc",
   "metadata": {},
   "outputs": [],
   "source": [
    "# 032\n",
    "# 클래스 상속\n",
    "\n",
    "class 자전차1(차):\n",
    "    pass"
   ]
  },
  {
   "cell_type": "code",
   "execution_count": 7,
   "id": "45346c94",
   "metadata": {},
   "outputs": [
    {
     "name": "stdout",
     "output_type": "stream",
     "text": [
      "100\n"
     ]
    }
   ],
   "source": [
    "# 033\n",
    "# 클래스 상속\n",
    "\n",
    "class 자전차(차):\n",
    "    def __init__ (self, wheel, price):\n",
    "        super().__init__(wheel, price)\n",
    "        \n",
    "bicycle = 자전차(2, 100)\n",
    "print(bicycle.가격)"
   ]
  },
  {
   "cell_type": "code",
   "execution_count": 8,
   "id": "1f12c4ba",
   "metadata": {},
   "outputs": [
    {
     "data": {
      "text/plain": [
       "'시마노'"
      ]
     },
     "execution_count": 8,
     "metadata": {},
     "output_type": "execute_result"
    }
   ],
   "source": [
    "# 034\n",
    "# 클래스 상속\n",
    "\n",
    "class 자전차(차):\n",
    "    def __init__ (self, wheel, price, 구동계):\n",
    "        super().__init__(wheel, price)\n",
    "        self.구동계 = 구동계\n",
    "        \n",
    "bicycle = 자전차(2, 100, \"시마노\")\n",
    "bicycle.구동계"
   ]
  },
  {
   "cell_type": "code",
   "execution_count": 12,
   "id": "26b75067",
   "metadata": {},
   "outputs": [
    {
     "name": "stdout",
     "output_type": "stream",
     "text": [
      "바퀴수 4\n",
      "가격 1000\n"
     ]
    }
   ],
   "source": [
    "# 035\n",
    "# 클래스 상속\n",
    "\n",
    "class 자동차(차):\n",
    "    def __init__ (self, wheel, price):\n",
    "        super().__init__ (wheel, price)\n",
    "    \n",
    "    def 정보(self):\n",
    "        print(\"바퀴수\", self.바퀴)\n",
    "        print(\"가격\", self.가격)\n",
    "\n",
    "car = 자동차(4, 1000)\n",
    "car.정보()"
   ]
  },
  {
   "cell_type": "code",
   "execution_count": 19,
   "id": "21b2161e",
   "metadata": {},
   "outputs": [
    {
     "name": "stdout",
     "output_type": "stream",
     "text": [
      "바퀴수 2\n",
      "가격 100\n"
     ]
    }
   ],
   "source": [
    "# 036\n",
    "# 클래스 상속\n",
    "\n",
    "class 차:\n",
    "    def __init__ (self, wheel, price):\n",
    "        self.바퀴 = wheel\n",
    "        self.가격 = price\n",
    "    \n",
    "    def 정보(self):\n",
    "        print(\"바퀴수\", self.바퀴)\n",
    "        print(\"가격\", self.가격)\n",
    "    \n",
    "class 자전차(차):\n",
    "    def __init__ (self, wheel, price):\n",
    "        super().__init__ (wheel, price)\n",
    "        \n",
    "bicycle = 자전차(2, 100)\n",
    "bicycle.정보()"
   ]
  },
  {
   "cell_type": "code",
   "execution_count": 21,
   "id": "a6996595",
   "metadata": {},
   "outputs": [
    {
     "name": "stdout",
     "output_type": "stream",
     "text": [
      "바퀴수 2\n",
      "가격 100\n",
      "구동계 시마노\n"
     ]
    }
   ],
   "source": [
    "# 037\n",
    "# 클래스 상속\n",
    "\n",
    "class 자전차(차):\n",
    "    def __init__ (self, wheel, price, 구동계):\n",
    "        super().__init__(wheel, price)\n",
    "        self.구동계 = 구동계\n",
    "\n",
    "    def info(self):\n",
    "        super().정보()\n",
    "        print(\"구동계\", self.구동계)\n",
    "        \n",
    "bicycle = 자전차(2, 100, \"시마노\")\n",
    "bicycle.info()"
   ]
  }
 ],
 "metadata": {
  "kernelspec": {
   "display_name": "Python 3 (ipykernel)",
   "language": "python",
   "name": "python3"
  },
  "language_info": {
   "codemirror_mode": {
    "name": "ipython",
    "version": 3
   },
   "file_extension": ".py",
   "mimetype": "text/x-python",
   "name": "python",
   "nbconvert_exporter": "python",
   "pygments_lexer": "ipython3",
   "version": "3.11.3"
  }
 },
 "nbformat": 4,
 "nbformat_minor": 5
}
