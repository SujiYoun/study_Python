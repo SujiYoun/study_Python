{
 "cells": [
  {
   "cell_type": "code",
   "execution_count": 3,
   "id": "34664567",
   "metadata": {},
   "outputs": [
    {
     "name": "stdout",
     "output_type": "stream",
     "text": [
      "3x1=3\n",
      "3x2=6\n",
      "3x3=9\n",
      "3x4=12\n",
      "3x5=15\n",
      "3x6=18\n",
      "3x7=21\n",
      "3x8=24\n",
      "3x9=27\n"
     ]
    }
   ],
   "source": [
    "# 011\n",
    "# 구구단 클래스 정의\n",
    "\n",
    "class 구구단():\n",
    "    def print(self, num):\n",
    "        for i in range(1, 10):\n",
    "            print(\"{}x{}={}\".format(num, i, num * i))\n",
    "\n",
    "m = 구구단()\n",
    "m.print(3)"
   ]
  }
 ],
 "metadata": {
  "kernelspec": {
   "display_name": "Python 3 (ipykernel)",
   "language": "python",
   "name": "python3"
  },
  "language_info": {
   "codemirror_mode": {
    "name": "ipython",
    "version": 3
   },
   "file_extension": ".py",
   "mimetype": "text/x-python",
   "name": "python",
   "nbconvert_exporter": "python",
   "pygments_lexer": "ipython3",
   "version": "3.11.3"
  }
 },
 "nbformat": 4,
 "nbformat_minor": 5
}
