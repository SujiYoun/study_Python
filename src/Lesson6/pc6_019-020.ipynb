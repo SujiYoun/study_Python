{
 "cells": [
  {
   "cell_type": "code",
   "execution_count": 10,
   "id": "390f9e30",
   "metadata": {},
   "outputs": [
    {
     "name": "stdout",
     "output_type": "stream",
     "text": [
      "유종훈 친구목록\n",
      "- 김철수\n",
      "- 김영희\n"
     ]
    }
   ],
   "source": [
    "# 019\n",
    "# 생성자, 변수, 메소드\n",
    "\n",
    "class person():\n",
    "    def __init__ (self, name, friends):\n",
    "        self.name = name\n",
    "        self.friends = friends\n",
    "    \n",
    "    def friends_list (self):\n",
    "        print(self.name, \"친구목록\")\n",
    "        for friend in self.friends:\n",
    "            print(\"-\", friend)\n",
    "            \n",
    "human = person(\"유종훈\", [\"김철수\", \"김영희\"])\n",
    "human.friends_list()"
   ]
  },
  {
   "cell_type": "code",
   "execution_count": 14,
   "id": "0bc8e586",
   "metadata": {},
   "outputs": [
    {
     "name": "stdout",
     "output_type": "stream",
     "text": [
      "김철수\n",
      "김영희\n",
      "박영수\n",
      "김철수\n"
     ]
    }
   ],
   "source": [
    "# 020\n",
    "# 생성자, 변수, 메소드\n",
    "\n",
    "class person():\n",
    "    def __init__ (self, name, friends):\n",
    "        self.name = name\n",
    "        self.friends = friends\n",
    "        \n",
    "    def 친구목록(self, num):\n",
    "        for name in self.friends[:num]:\n",
    "            print(name)\n",
    "            \n",
    "human = person(\"유종훈\", [\"김철수\", \"김영희\", \"박영수\", \"이미자\"])\n",
    "human.친구목록(3)\n",
    "human.친구목록(1)"
   ]
  }
 ],
 "metadata": {
  "kernelspec": {
   "display_name": "Python 3 (ipykernel)",
   "language": "python",
   "name": "python3"
  },
  "language_info": {
   "codemirror_mode": {
    "name": "ipython",
    "version": 3
   },
   "file_extension": ".py",
   "mimetype": "text/x-python",
   "name": "python",
   "nbconvert_exporter": "python",
   "pygments_lexer": "ipython3",
   "version": "3.11.3"
  }
 },
 "nbformat": 4,
 "nbformat_minor": 5
}
