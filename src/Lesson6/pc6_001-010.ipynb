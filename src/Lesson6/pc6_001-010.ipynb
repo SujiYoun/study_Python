{
 "cells": [
  {
   "cell_type": "code",
   "execution_count": 23,
   "id": "cac81691",
   "metadata": {},
   "outputs": [],
   "source": [
    "# 001\n",
    "# 클래스 정의\n",
    "\n",
    "# class person:\n",
    "#    pass"
   ]
  },
  {
   "cell_type": "code",
   "execution_count": 24,
   "id": "8eaeeb8f",
   "metadata": {},
   "outputs": [],
   "source": [
    "# 002\n",
    "# 클래스의 인스턴스(instance)를 생성해서 human 변수에 바인딩\n",
    "\n",
    "human = person()"
   ]
  },
  {
   "cell_type": "code",
   "execution_count": 25,
   "id": "a95a6870",
   "metadata": {},
   "outputs": [],
   "source": [
    "# 003\n",
    "# 클래스에 메소드 추가\n",
    "\n",
    "class person:\n",
    "    def cry(self): # self 파라미터를 꼭 추가해야\n",
    "        print(\"응애응애\")"
   ]
  },
  {
   "cell_type": "code",
   "execution_count": 28,
   "id": "c95bb14f",
   "metadata": {},
   "outputs": [
    {
     "name": "stdout",
     "output_type": "stream",
     "text": [
      "응애응애\n",
      "응애응애\n"
     ]
    }
   ],
   "source": [
    "# 004\n",
    "# 코드가 동작 하는 가\n",
    "\n",
    "person().cry()\n",
    "human.cry()"
   ]
  },
  {
   "cell_type": "code",
   "execution_count": 30,
   "id": "aee29b18",
   "metadata": {},
   "outputs": [
    {
     "ename": "TypeError",
     "evalue": "사람.smile() takes 0 positional arguments but 1 was given",
     "output_type": "error",
     "traceback": [
      "\u001b[1;31m---------------------------------------------------------------------------\u001b[0m",
      "\u001b[1;31mTypeError\u001b[0m                                 Traceback (most recent call last)",
      "Cell \u001b[1;32mIn[30], line 8\u001b[0m\n\u001b[0;32m      5\u001b[0m     \u001b[38;5;28;01mdef\u001b[39;00m \u001b[38;5;21msmile\u001b[39m(): \u001b[38;5;66;03m# self 파라미터가 없음\u001b[39;00m\n\u001b[0;32m      6\u001b[0m         \u001b[38;5;28mprint\u001b[39m(\u001b[38;5;124m\"\u001b[39m\u001b[38;5;124m웃자\u001b[39m\u001b[38;5;124m\"\u001b[39m)\n\u001b[1;32m----> 8\u001b[0m 사람()\u001b[38;5;241m.\u001b[39msmile()\n",
      "\u001b[1;31mTypeError\u001b[0m: 사람.smile() takes 0 positional arguments but 1 was given"
     ]
    }
   ],
   "source": [
    "# 005\n",
    "# 에러 원인\n",
    "\n",
    "class 사람:\n",
    "    def smile(): # 메소드의 첫 번째 파라미터는 self여야 한다.\n",
    "        print(\"웃자\")\n",
    "\n",
    "사람().smile()"
   ]
  },
  {
   "cell_type": "code",
   "execution_count": 36,
   "id": "ba2a0c38",
   "metadata": {},
   "outputs": [
    {
     "name": "stdout",
     "output_type": "stream",
     "text": [
      "엉엉엉엉\n",
      "흑흑흑흑\n"
     ]
    }
   ],
   "source": [
    "# 006\n",
    "# 클래스 속 메소드의 문자열 파라미터\n",
    "\n",
    "class 사람:\n",
    "    def cry1(self, string):\n",
    "        print(string * 2)\n",
    "        \n",
    "human = 사람()\n",
    "human.cry1(\"엉엉\")\n",
    "human.cry1(\"흑흑\")"
   ]
  },
  {
   "cell_type": "code",
   "execution_count": 39,
   "id": "a9d232b4",
   "metadata": {},
   "outputs": [
    {
     "name": "stdout",
     "output_type": "stream",
     "text": [
      "엉\n",
      "엉\n",
      "엄\n",
      "마\n",
      "아\n",
      "아\n",
      "아\n"
     ]
    }
   ],
   "source": [
    "# 007\n",
    "# 클래스 속 메소드의 문자열 파라미터\n",
    "\n",
    "class 사람:\n",
    "    def cry2(self, string):\n",
    "        for i in range(len(string)):\n",
    "            print(string[i])\n",
    "            \n",
    "human = 사람()            \n",
    "human.cry2(\"엉엉\")\n",
    "human.cry2(\"엄마아아아\")"
   ]
  },
  {
   "cell_type": "code",
   "execution_count": 45,
   "id": "024ed466",
   "metadata": {},
   "outputs": [
    {
     "name": "stdout",
     "output_type": "stream",
     "text": [
      "김철수에게 010-1234-5678 발신중\n"
     ]
    }
   ],
   "source": [
    "# 008\n",
    "# 클래스 속 메소드\n",
    "\n",
    "class 사람():\n",
    "    def call(self, name, phoneNum):\n",
    "        print(\"{}에게 {} 발신중\".format(name, phoneNum))\n",
    "        \n",
    "human = 사람()\n",
    "human.call(\"김철수\", \"010-1234-5678\")"
   ]
  },
  {
   "cell_type": "code",
   "execution_count": 47,
   "id": "76fc7f87",
   "metadata": {},
   "outputs": [
    {
     "name": "stdout",
     "output_type": "stream",
     "text": [
      "21\n"
     ]
    }
   ],
   "source": [
    "# 009\n",
    "# 클래스 속 메소드\n",
    "\n",
    "class 사람():\n",
    "    def 구구단(self, num1, num2):\n",
    "        print(num1 * num2)\n",
    "        \n",
    "human = 사람()\n",
    "human.구구단(3, 7)"
   ]
  },
  {
   "cell_type": "code",
   "execution_count": 53,
   "id": "20175423",
   "metadata": {},
   "outputs": [
    {
     "name": "stdout",
     "output_type": "stream",
     "text": [
      "유XX라\n"
     ]
    }
   ],
   "source": [
    "# 010\n",
    "# 클래스 속 메소드\n",
    "\n",
    "class 사람():\n",
    "    def 개인정보(self, name):\n",
    "        print(name[0] + \"X\" * (len(name) - 2) + name[-1])\n",
    "\n",
    "human = 사람()\n",
    "human.개인정보(\"유빛나라\")"
   ]
  }
 ],
 "metadata": {
  "kernelspec": {
   "display_name": "Python 3 (ipykernel)",
   "language": "python",
   "name": "python3"
  },
  "language_info": {
   "codemirror_mode": {
    "name": "ipython",
    "version": 3
   },
   "file_extension": ".py",
   "mimetype": "text/x-python",
   "name": "python",
   "nbconvert_exporter": "python",
   "pygments_lexer": "ipython3",
   "version": "3.11.3"
  }
 },
 "nbformat": 4,
 "nbformat_minor": 5
}
