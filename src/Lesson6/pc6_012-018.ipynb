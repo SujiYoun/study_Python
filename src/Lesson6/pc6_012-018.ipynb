{
 "cells": [
  {
   "cell_type": "code",
   "execution_count": 2,
   "id": "1bbe398d",
   "metadata": {},
   "outputs": [
    {
     "name": "stdout",
     "output_type": "stream",
     "text": [
      "유종훈 님이 태어났습니다.\n",
      "조현호 님이 태어났습니다.\n"
     ]
    }
   ],
   "source": [
    "# 012\n",
    "# 생성자\n",
    "\n",
    "class 사람():\n",
    "    def __init__ (self, name):\n",
    "        print(name, \"님이 태어났습니다.\")\n",
    "        \n",
    "human = 사람(\"유종훈\")\n",
    "human = 사람(\"조현호\")"
   ]
  },
  {
   "cell_type": "code",
   "execution_count": 3,
   "id": "6e386ac7",
   "metadata": {},
   "outputs": [
    {
     "data": {
      "text/plain": [
       "1986"
      ]
     },
     "execution_count": 3,
     "metadata": {},
     "output_type": "execute_result"
    }
   ],
   "source": [
    "# 013\n",
    "# 생성자, 변수\n",
    "\n",
    "class 사람():\n",
    "    def __init__ (self, name, year):\n",
    "        self.연도 = year\n",
    "        \n",
    "human = 사람(\"유종훈\", 1986)\n",
    "human.연도"
   ]
  },
  {
   "cell_type": "code",
   "execution_count": 5,
   "id": "667691e9",
   "metadata": {},
   "outputs": [
    {
     "data": {
      "text/plain": [
       "'종훈'"
      ]
     },
     "execution_count": 5,
     "metadata": {},
     "output_type": "execute_result"
    }
   ],
   "source": [
    "# 014\n",
    "# 생성자, 변수\n",
    "\n",
    "class 사람():\n",
    "    def __init__ (self, name):\n",
    "        self.성 = name[0]\n",
    "        self.이름 = name[1:]\n",
    "        \n",
    "human = 사람(\"유종훈\")\n",
    "human.이름"
   ]
  },
  {
   "cell_type": "code",
   "execution_count": 8,
   "id": "883d1100",
   "metadata": {},
   "outputs": [
    {
     "data": {
      "text/plain": [
       "'조현호'"
      ]
     },
     "execution_count": 8,
     "metadata": {},
     "output_type": "execute_result"
    }
   ],
   "source": [
    "# 015\n",
    "# 생성자, 변수\n",
    "\n",
    "class 사람():\n",
    "    def __init__ (self, 친구0, 친구1):\n",
    "        self.친구0 = 친구0\n",
    "        self.친구1 = 친구1\n",
    "        \n",
    "human = 사람(\"유종훈\", \"조현호\")\n",
    "human.친구1"
   ]
  },
  {
   "cell_type": "code",
   "execution_count": 11,
   "id": "72dc9486",
   "metadata": {},
   "outputs": [
    {
     "data": {
      "text/plain": [
       "['유종훈', '조현호']"
      ]
     },
     "execution_count": 11,
     "metadata": {},
     "output_type": "execute_result"
    }
   ],
   "source": [
    "# 016\n",
    "# 생성자, 변수\n",
    "\n",
    "class 사람():\n",
    "    def __init__ (self, name0, name1):\n",
    "        self.친구 = [name0, name1]\n",
    "        \n",
    "human = 사람(\"유종훈\", \"조현호\")\n",
    "human.친구"
   ]
  },
  {
   "cell_type": "code",
   "execution_count": 12,
   "id": "216f550d",
   "metadata": {},
   "outputs": [
    {
     "data": {
      "text/plain": [
       "['김하나', '김기리']"
      ]
     },
     "execution_count": 12,
     "metadata": {},
     "output_type": "execute_result"
    }
   ],
   "source": [
    "# 017\n",
    "# 생성자, 메소드\n",
    "\n",
    "class 사람():\n",
    "    def __init__ (self):\n",
    "        self.친구들 = []\n",
    "        \n",
    "    def 친구추가(self, name):\n",
    "        self.친구들.append(name)\n",
    "        \n",
    "human = 사람()\n",
    "human.친구추가(\"김하나\")\n",
    "human.친구추가(\"김기리\")\n",
    "human.친구들"
   ]
  },
  {
   "cell_type": "code",
   "execution_count": 16,
   "id": "2a776aac",
   "metadata": {},
   "outputs": [
    {
     "data": {
      "text/plain": [
       "['김철수', '김영희', '김범수']"
      ]
     },
     "execution_count": 16,
     "metadata": {},
     "output_type": "execute_result"
    }
   ],
   "source": [
    "# 018\n",
    "# 생성자, 메소드, 변수\n",
    "\n",
    "class 사람():\n",
    "    def __init__ (self, name, friend):\n",
    "        self.이름 = name\n",
    "        self.친구들 = friend\n",
    "        \n",
    "    def 친구추가(self, name):\n",
    "        self.친구들.append(name)\n",
    "        \n",
    "human = 사람(\"유종훈\", [\"김철수\", \"김영희\"])\n",
    "human.친구추가(\"김범수\")\n",
    "human.친구들"
   ]
  }
 ],
 "metadata": {
  "kernelspec": {
   "display_name": "Python 3 (ipykernel)",
   "language": "python",
   "name": "python3"
  },
  "language_info": {
   "codemirror_mode": {
    "name": "ipython",
    "version": 3
   },
   "file_extension": ".py",
   "mimetype": "text/x-python",
   "name": "python",
   "nbconvert_exporter": "python",
   "pygments_lexer": "ipython3",
   "version": "3.11.3"
  }
 },
 "nbformat": 4,
 "nbformat_minor": 5
}
