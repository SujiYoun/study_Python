{
 "cells": [
  {
   "cell_type": "code",
   "execution_count": 2,
   "id": "f5abc3c5",
   "metadata": {},
   "outputs": [
    {
     "name": "stdout",
     "output_type": "stream",
     "text": [
      "500000\n"
     ]
    }
   ],
   "source": [
    "# 변수 사용하기\n",
    "\n",
    "삼성전자 = 50000\n",
    "총평가금액 = 삼성전자 * 10\n",
    "print(총평가금액)"
   ]
  },
  {
   "cell_type": "code",
   "execution_count": 4,
   "id": "d529323e",
   "metadata": {},
   "outputs": [
    {
     "name": "stdout",
     "output_type": "stream",
     "text": [
      "298000000000000 <class 'int'>\n",
      "50000 <class 'int'>\n",
      "15.79 <class 'float'>\n"
     ]
    }
   ],
   "source": [
    "시가총액 = 298000000000000\n",
    "현재가 = 50000\n",
    "PER = 15.79\n",
    "\n",
    "print(시가총액, type(시가총액))\n",
    "print(현재가, type(현재가))\n",
    "print(PER, type(PER))"
   ]
  },
  {
   "cell_type": "code",
   "execution_count": 6,
   "id": "92368000",
   "metadata": {},
   "outputs": [
    {
     "name": "stdout",
     "output_type": "stream",
     "text": [
      "hello! python\n"
     ]
    }
   ],
   "source": [
    "# 문자열 출력\n",
    "\n",
    "s = \"hello\"\n",
    "t = \"python\"\n",
    "\n",
    "print(s+\"!\", t)"
   ]
  },
  {
   "cell_type": "code",
   "execution_count": 7,
   "id": "c5057518",
   "metadata": {},
   "outputs": [
    {
     "data": {
      "text/plain": [
       "8"
      ]
     },
     "execution_count": 7,
     "metadata": {},
     "output_type": "execute_result"
    }
   ],
   "source": [
    "# 파이썬을 이용한 값 계산\n",
    "\n",
    "2 + 2 * 3"
   ]
  },
  {
   "cell_type": "code",
   "execution_count": 10,
   "id": "a7addcf7",
   "metadata": {},
   "outputs": [
    {
     "name": "stdout",
     "output_type": "stream",
     "text": [
      "<class 'int'>\n",
      "<class 'str'>\n"
     ]
    }
   ],
   "source": [
    "# type 함수\n",
    "\n",
    "a = 128\n",
    "print(type(a)) # int\n",
    "\n",
    "a = \"132\"\n",
    "print(type(a)) # str"
   ]
  },
  {
   "cell_type": "code",
   "execution_count": 13,
   "id": "16e6b6a8",
   "metadata": {},
   "outputs": [
    {
     "name": "stdout",
     "output_type": "stream",
     "text": [
      "720 <class 'int'>\n"
     ]
    }
   ],
   "source": [
    "# 문자열을 정수로 변환\n",
    "\n",
    "num_str = \"720\"\n",
    "num_int = int(num_str)\n",
    "\n",
    "print(num_int, type(num_int))"
   ]
  },
  {
   "cell_type": "code",
   "execution_count": 14,
   "id": "e4e83d8f",
   "metadata": {},
   "outputs": [
    {
     "name": "stdout",
     "output_type": "stream",
     "text": [
      "100 <class 'str'>\n"
     ]
    }
   ],
   "source": [
    "# 정수를 문자열 100으로 변환\n",
    "\n",
    "num = 100\n",
    "str_num = str(num)\n",
    "\n",
    "print(str_num, type(str_num))"
   ]
  },
  {
   "cell_type": "code",
   "execution_count": 16,
   "id": "322f49cd",
   "metadata": {},
   "outputs": [
    {
     "name": "stdout",
     "output_type": "stream",
     "text": [
      "15.79 <class 'float'>\n"
     ]
    }
   ],
   "source": [
    "# 문자열을 실수로 변환\n",
    "\n",
    "num_str = \"15.79\"\n",
    "num_float = float(num_str)\n",
    "\n",
    "print(num_float, type(num_float))"
   ]
  },
  {
   "cell_type": "code",
   "execution_count": 19,
   "id": "d77e3408",
   "metadata": {},
   "outputs": [
    {
     "name": "stdout",
     "output_type": "stream",
     "text": [
      "2018 2019 2020\n"
     ]
    }
   ],
   "source": [
    "# 문자열을 정수로 변환\n",
    "\n",
    "year = \"2020\"\n",
    "\n",
    "int_year = int(year)\n",
    "print(int_year - 2, int_year - 1, int_year)"
   ]
  },
  {
   "cell_type": "code",
   "execution_count": 20,
   "id": "6f4f99e7",
   "metadata": {},
   "outputs": [
    {
     "name": "stdout",
     "output_type": "stream",
     "text": [
      "1749024\n"
     ]
    }
   ],
   "source": [
    "# 파이썬 계산\n",
    "\n",
    "에어컨_월 = 48584\n",
    "총금액 = 에어컨_월 * 36\n",
    "\n",
    "print(총금액)"
   ]
  }
 ],
 "metadata": {
  "kernelspec": {
   "display_name": "Python 3 (ipykernel)",
   "language": "python",
   "name": "python3"
  },
  "language_info": {
   "codemirror_mode": {
    "name": "ipython",
    "version": 3
   },
   "file_extension": ".py",
   "mimetype": "text/x-python",
   "name": "python",
   "nbconvert_exporter": "python",
   "pygments_lexer": "ipython3",
   "version": "3.11.3"
  }
 },
 "nbformat": 4,
 "nbformat_minor": 5
}
